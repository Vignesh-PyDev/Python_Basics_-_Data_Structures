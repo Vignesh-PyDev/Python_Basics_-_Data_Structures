{
 "cells": [
  {
   "cell_type": "markdown",
   "metadata": {},
   "source": [
    "# Python Tuples"
   ]
  },
  {
   "cell_type": "markdown",
   "metadata": {},
   "source": [
    "## Tuple Basics And Syntax\n",
    "\n",
    "-->Tuples are identical to lists in all respects, except for the following properties:\n",
    "\n",
    "-->Tuples are defined by enclosing the elements in parentheses (()).\n",
    "\n",
    "-->Tuples are immutable.i.e It wont supports Item assignment after creation.\n",
    "\n",
    "-->Tuple Indexing and Slicing is as same as List."
   ]
  },
  {
   "cell_type": "markdown",
   "metadata": {},
   "source": [
    "## When To Use Tuples\n",
    "\n",
    "-->Faster Execution when Compared to List.\n",
    "\n",
    "-->When Data remain Constant."
   ]
  },
  {
   "cell_type": "code",
   "execution_count": null,
   "metadata": {},
   "outputs": [],
   "source": [
    "#Tuple Packing\n",
    "Tuple_with_Data = (\"First_Value\",\"Second_Value\",\"Third_Value\",\"Fourth_value\",\"Fifth_Value\",\"Sixth_Value\",\"Last_Value\")"
   ]
  },
  {
   "cell_type": "code",
   "execution_count": null,
   "metadata": {},
   "outputs": [],
   "source": [
    "Tuple_with_Data[0]"
   ]
  },
  {
   "cell_type": "code",
   "execution_count": null,
   "metadata": {},
   "outputs": [],
   "source": [
    "#Tuple UnPacking\n",
    "(t1,t2,t3,t4,t5,t6,t7) = Tuple_with_Data\n",
    "t1\n",
    "t2\n",
    "t3"
   ]
  },
  {
   "cell_type": "markdown",
   "metadata": {},
   "source": [
    "## Tuple Built-in Fns"
   ]
  },
  {
   "cell_type": "code",
   "execution_count": null,
   "metadata": {},
   "outputs": [],
   "source": [
    "# count()   -->Returns No Occurrencess of a Value in Tuple\n",
    "Tuple_Count_Test = (1,4,2,3,4,2,3,4,65,4,4,6)\n",
    "Tuple_Count_Test.count(6)\n",
    "Tuple_Count_Test.count(4)"
   ]
  },
  {
   "cell_type": "code",
   "execution_count": null,
   "metadata": {},
   "outputs": [],
   "source": [
    "# Index()   -->Returns Index of the First Occurrencess of a Value in Tuple\n",
    "Tuple_Count_Test = (1,2,3,4,2,3,4,65,4,4,6)\n",
    "Tuple_Count_Test.index(6)\n",
    "Tuple_Count_Test.index(4)\n",
    "Tuple_Count_Test.index(4)"
   ]
  },
  {
   "cell_type": "code",
   "execution_count": null,
   "metadata": {},
   "outputs": [],
   "source": []
  }
 ],
 "metadata": {
  "kernelspec": {
   "display_name": "Python 3",
   "language": "python",
   "name": "python3"
  },
  "language_info": {
   "codemirror_mode": {
    "name": "ipython",
    "version": 3
   },
   "file_extension": ".py",
   "mimetype": "text/x-python",
   "name": "python",
   "nbconvert_exporter": "python",
   "pygments_lexer": "ipython3",
   "version": "3.8.5"
  }
 },
 "nbformat": 4,
 "nbformat_minor": 4
}
