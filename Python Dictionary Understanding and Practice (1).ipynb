{
 "cells": [
  {
   "cell_type": "markdown",
   "metadata": {},
   "source": [
    "# Python Dictionaries:\n",
    "-->Unlike sequences, which are indexed by a range of numbers, dictionaries are indexed by keys, which can be any immutable type; strings and numbers can always be keys.\n",
    "-->You can’t use lists as keys.\n",
    "--> Key Values duplication is not allowed.\n",
    "--> If New Entry Is placed Using Existing Key It Overrides the Existing Vlaues."
   ]
  },
  {
   "cell_type": "markdown",
   "metadata": {},
   "source": [
    "# Dictionary Creation:\n",
    "\n",
    "You can define a dictionary by enclosing a comma-separated list of key-value pairs in curly braces ({}). A colon (:) separates each key.\n",
    "\n",
    "Dictionary = {\n",
    "              <key_1>: <value>,\n",
    "    \n",
    "              <key_2>: <value>,\n",
    "                  \n",
    "              .\n",
    "              .\n",
    "              .\n",
    "              <key_n>: <value>\n",
    "              }"
   ]
  },
  {
   "cell_type": "code",
   "execution_count": null,
   "metadata": {},
   "outputs": [],
   "source": [
    "# Creating_Dictionary Method#1\n",
    "Dict_Creation = {\n",
    "                 \"Book_ISBN\":\"978-93-5110-201-4\",\n",
    "                 \"Book_Name\" : \"Learning_Python\",\n",
    "                 \"Book_Author\" : \"Mark Lutz\",\n",
    "                 \"Book_Publisher\" : \"O'Reilly\",\n",
    "                 \"Book_Edition\" : \"5th Edition\"\n",
    "                }"
   ]
  },
  {
   "cell_type": "code",
   "execution_count": null,
   "metadata": {},
   "outputs": [],
   "source": [
    "# Creating_Dictionary Method#2\n",
    "# Using Dict() Method\n",
    "\n",
    "Dict_Creation_Dict_Method = dict([\n",
    "                 (\"Book_ISBN\",\"978-93-5110-201-4\"),\n",
    "                 (\"Book_Name\" , \"Learning_Python\"),\n",
    "                 (\"Book_Author\" , \"Mark Lutz\"),\n",
    "                 (\"Book_Publisher\" , \"O'Reilly\"),\n",
    "                 (\"Book_Edition\" , \"5th Edition\")\n",
    "                                ])"
   ]
  },
  {
   "cell_type": "code",
   "execution_count": null,
   "metadata": {},
   "outputs": [],
   "source": [
    "Dict_Creation"
   ]
  },
  {
   "cell_type": "code",
   "execution_count": null,
   "metadata": {},
   "outputs": [],
   "source": [
    "Dict_Creation_Dict_Method"
   ]
  },
  {
   "cell_type": "code",
   "execution_count": null,
   "metadata": {},
   "outputs": [],
   "source": [
    "# Creating_Dictionary Method#3\n",
    "# Using for Loop\n",
    "Dict_Creation_Dict_Using_For_Loop = {x:x**3 for x in range(1,7)}"
   ]
  },
  {
   "cell_type": "code",
   "execution_count": null,
   "metadata": {},
   "outputs": [],
   "source": [
    "Dict_Creation_Dict_Using_For_Loop"
   ]
  },
  {
   "cell_type": "code",
   "execution_count": null,
   "metadata": {},
   "outputs": [],
   "source": [
    "Dict_Practice_List = [\"Schmitt\",\"King\",\"Ferguson\",\"Labrune\",\"bergulfsen\",\"Nelson\",\"Piestrzeniewicz\",\n",
    "\"Keitel\",\"Murphy\",\"Lee\",\"Freyre\",\"Berglund\",\"Petersen\",\"Saveley\",\"Natividad\",\"Young\",\"Leong\",\"Hashimoto\",\"Victorino\",\"Oeztan\",\n",
    "\"Franco\",\"de Castro\",\"Rancé\",\"Bertrand\",\"Tseng\",\"King\",\"Kentary\",\"Frick\",\"Karttunen\",\"Ashworth\",\"Cassidy\",\"Taylor\",\"Devon\",\"Tamuri\",\n",
    "\"Barajas\",\"Young\",\"Walker\",\"Citeaux\",\"Gao\",\"Saavedra\",\"Young\",\"Kloss\",\"Ibsen\",\"Fresnière\",\"Camino\",\"Thompson\",\"Bennett\",\"Roulet\",\"Messner\"\n",
    "\"Accorti\",\"Da Silv\",\"Tonini\",\"Pfalzheim\",\"Lincoln\",\"Franken\",\"OHara\",\"Rovelli\",\"Huxley\",\"Hernandez\",\"Harrison\",\"Holz\",\"Klaeboe\",\"Schuyler\",\"Anderse\",\"Koskitalo\",\"Dewey\"\n",
    "\"Frick\",\"Huang\",\"Brown\",\"Graham\",\"Brown\",\"Brown\",\"Calaghan\",\"Suominen\",\"Cramer\",\"Cervantes\",\"Fernandez\",\"Chandler\",\"McKenna\",\n",
    "\"Lebihan\",\"Henriot\",\"Kuger\",\"MacKinlay\",\"Josephs\",\"Yoshido\",\"Young\",\"Rodriguez\",\"Urs\",\"Nelson\",\"Cartrain\",\"Pipps\",\"Cruz\",\"Moroni\"\n",
    "\"Shimamura\",\"Perrier\",\"Müller\",\"McRoy\",\"Donnermeyer\",\"Hernandez\",\"Feuer\",\"Lewis\",\"Larsson\",\"Frick\",\"Mendel\",\"Murphy\"\"Choi\"]"
   ]
  },
  {
   "cell_type": "code",
   "execution_count": null,
   "metadata": {},
   "outputs": [],
   "source": [
    "Dict_Practice_List_1 = []\n",
    "for x in Dict_Practice_List:\n",
    "    Dict_Practice_List_1.append('Length of {} is {}'.format(x,len(x)))\n",
    "    "
   ]
  },
  {
   "cell_type": "code",
   "execution_count": null,
   "metadata": {},
   "outputs": [],
   "source": [
    "# Creating_Dictionary Method#4\n",
    "# Using Two list and Zip Method\n",
    "Dict_Creation_Dict_Using_Two_Lists = dict(zip(Dict_Practice_List,Dict_Practice_List_1))"
   ]
  },
  {
   "cell_type": "markdown",
   "metadata": {},
   "source": [
    "# Operators And Functions\n",
    "\n",
    "## Operators"
   ]
  },
  {
   "cell_type": "code",
   "execution_count": null,
   "metadata": {},
   "outputs": [],
   "source": [
    "# in Operator\n",
    "\n",
    "\"King\" in Dict_Creation_Dict_Using_Two_Lists     #True\n",
    "\n",
    "\"Operators\" in Dict_Creation_Dict_Using_Two_Lists     #False"
   ]
  },
  {
   "cell_type": "code",
   "execution_count": null,
   "metadata": {},
   "outputs": [],
   "source": [
    "# not in Operator\n",
    "\n",
    "\"King\" not in Dict_Creation_Dict_Using_Two_Lists     #False\n",
    "\n",
    "\"Operators\" not in Dict_Creation_Dict_Using_Two_Lists     #True"
   ]
  },
  {
   "cell_type": "code",
   "execution_count": null,
   "metadata": {},
   "outputs": [],
   "source": [
    "# len() function returns the number of key-value pairs in a dictionary:\n",
    "\n",
    "len(Dict_Creation_Dict_Using_Two_Lists)"
   ]
  },
  {
   "cell_type": "markdown",
   "metadata": {},
   "source": [
    "## Functions"
   ]
  },
  {
   "cell_type": "code",
   "execution_count": null,
   "metadata": {},
   "outputs": [],
   "source": [
    "# clear() Empties Dictionary\n",
    "Dict_Creation_Dict_Using_Two_Lists"
   ]
  },
  {
   "cell_type": "code",
   "execution_count": null,
   "metadata": {},
   "outputs": [],
   "source": [
    "Dict_Creation_Dict_Using_Two_Lists.clear()"
   ]
  },
  {
   "cell_type": "code",
   "execution_count": null,
   "metadata": {},
   "outputs": [],
   "source": [
    "Dict_Creation_Dict_Using_Two_Lists"
   ]
  },
  {
   "cell_type": "code",
   "execution_count": null,
   "metadata": {},
   "outputs": [],
   "source": [
    "# get(Key, <default>) The Python dictionary .get() method provides a convenient way of getting the value of a key from a dictionary without checking ahead of time whether the key exists, and without raising an error.\n",
    "#default Parameter Default value is -1\n",
    "#default Parameter is optional If Specified as \"1\" returns 1 if Searched Key is not found.\n",
    "\n",
    "Dict_Creation_Dict_Using_Two_Lists.get(\"Cruz\")\n",
    "\n",
    "Dict_Creation_Dict_Using_Two_Lists.get(\"Python\",1)   #Returns 1 If Key Not Found\n"
   ]
  },
  {
   "cell_type": "code",
   "execution_count": null,
   "metadata": {},
   "outputs": [],
   "source": [
    "# items()     -->Returns a list of key-value pairs in a dictionary.\n",
    "# returns a list of tuples containing the key-value pairs in d. The first item in each tuple is the key, and the second item is the key’s value.\n",
    "\n",
    "Dict_Creation.items()"
   ]
  },
  {
   "cell_type": "code",
   "execution_count": null,
   "metadata": {},
   "outputs": [],
   "source": [
    "# keys()     -->Returns a list of keys in a dictionary.\n",
    "# returns a list containing the key in dictionary.\n",
    "\n",
    "Dict_Creation.keys()"
   ]
  },
  {
   "cell_type": "code",
   "execution_count": null,
   "metadata": {},
   "outputs": [],
   "source": [
    "# values()     -->Returns a list of values in a dictionary.\n",
    "# returns a list containing the Values in dictionary.\n",
    "\n",
    "Dict_Creation.values()"
   ]
  },
  {
   "cell_type": "code",
   "execution_count": null,
   "metadata": {},
   "outputs": [],
   "source": [
    "# del     -->Used to Delete Entry in dictionary.\n",
    "\n",
    "del Dict_Creation['Book_Author']"
   ]
  },
  {
   "cell_type": "code",
   "execution_count": null,
   "metadata": {},
   "outputs": [],
   "source": [
    "Dict_Creation"
   ]
  },
  {
   "cell_type": "code",
   "execution_count": null,
   "metadata": {},
   "outputs": [],
   "source": [
    "# pop(Key, <default>)     -->Removes a key from a dictionary, if it is present, and returns its value.\n",
    "\n",
    "#default Parameter Default value is -1\n",
    "#default Parameter is optional If Specified as \"1\" returns 1 if Searched Key is not found.\n",
    "\n",
    "Dict_Creation_Dict_Using_Two_Lists.pop(\"Cruz\",\"3\")\n",
    "\n",
    "Dict_Creation_Dict_Using_Two_Lists.get(\"Vignesh\",1)   #Returns 1 If Vignesh Not Found\n"
   ]
  },
  {
   "cell_type": "code",
   "execution_count": null,
   "metadata": {},
   "outputs": [],
   "source": [
    "# popitem()     -->Removes a key-value pair from a dictionary.\n",
    "\n",
    "Dict_Creation\n",
    "\n",
    "Dict_Creation.popitem()\n",
    "\n",
    "Dict_Creation"
   ]
  },
  {
   "cell_type": "code",
   "execution_count": null,
   "metadata": {},
   "outputs": [],
   "source": [
    "# update(<obj>)     -->Merges a dictionary with another dictionary or with an iterable of key-value pairs.\n",
    "\n",
    "Dict_Creation.update(Dict_Creation_Dict_Using_For_Loop)\n",
    "\n",
    "Dict_Creation"
   ]
  }
 ],
 "metadata": {
  "kernelspec": {
   "display_name": "Python 3",
   "language": "python",
   "name": "python3"
  },
  "language_info": {
   "codemirror_mode": {
    "name": "ipython",
    "version": 3
   },
   "file_extension": ".py",
   "mimetype": "text/x-python",
   "name": "python",
   "nbconvert_exporter": "python",
   "pygments_lexer": "ipython3",
   "version": "3.8.5"
  }
 },
 "nbformat": 4,
 "nbformat_minor": 4
}
