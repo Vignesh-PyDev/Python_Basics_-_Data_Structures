{
 "cells": [
  {
   "cell_type": "markdown",
   "metadata": {},
   "source": [
    "# Python Dictionaries:\n",
    "-->Unlike sequences, which are indexed by a range of numbers, dictionaries are indexed by keys, which can be any immutable type; strings and numbers can always be keys.\n",
    "-->You can’t use lists as keys.\n",
    "--> Key Values duplication is not allowed.\n",
    "--> If New Entry Is placed Using Existing Key It Overrides the Existing Vlaues."
   ]
  },
  {
   "cell_type": "markdown",
   "metadata": {},
   "source": [
    "# Dictionary Creation:\n",
    "\n",
    "You can define a dictionary by enclosing a comma-separated list of key-value pairs in curly braces ({}). A colon (:) separates each key.\n",
    "\n",
    "Dictionary = {\n",
    "              <key_1>: <value>,\n",
    "    \n",
    "              <key_2>: <value>,\n",
    "                  \n",
    "              .\n",
    "              .\n",
    "              .\n",
    "              <key_n>: <value>\n",
    "              }"
   ]
  },
  {
   "cell_type": "code",
   "execution_count": 1,
   "metadata": {},
   "outputs": [],
   "source": [
    "# Creating_Dictionary Method#1\n",
    "Dict_Creation = {\n",
    "                 \"Book_ISBN\":\"978-93-5110-201-4\",\n",
    "                 \"Book_Name\" : \"Learning_Python\",\n",
    "                 \"Book_Author\" : \"Mark Lutz\",\n",
    "                 \"Book_Publisher\" : \"O'Reilly\",\n",
    "                 \"Book_Edition\" : \"5th Edition\"\n",
    "                }"
   ]
  },
  {
   "cell_type": "code",
   "execution_count": 2,
   "metadata": {},
   "outputs": [],
   "source": [
    "# Creating_Dictionary Method#2\n",
    "# Using Dict() Method\n",
    "\n",
    "Dict_Creation_Dict_Method = dict([\n",
    "                 (\"Book_ISBN\",\"978-93-5110-201-4\"),\n",
    "                 (\"Book_Name\" , \"Learning_Python\"),\n",
    "                 (\"Book_Author\" , \"Mark Lutz\"),\n",
    "                 (\"Book_Publisher\" , \"O'Reilly\"),\n",
    "                 (\"Book_Edition\" , \"5th Edition\")\n",
    "                                ])"
   ]
  },
  {
   "cell_type": "code",
   "execution_count": 3,
   "metadata": {},
   "outputs": [
    {
     "data": {
      "text/plain": [
       "{'Book_ISBN': '978-93-5110-201-4',\n",
       " 'Book_Name': 'Learning_Python',\n",
       " 'Book_Author': 'Mark Lutz',\n",
       " 'Book_Publisher': \"O'Reilly\",\n",
       " 'Book_Edition': '5th Edition'}"
      ]
     },
     "execution_count": 3,
     "metadata": {},
     "output_type": "execute_result"
    }
   ],
   "source": [
    "Dict_Creation"
   ]
  },
  {
   "cell_type": "code",
   "execution_count": 4,
   "metadata": {},
   "outputs": [
    {
     "data": {
      "text/plain": [
       "{'Book_ISBN': '978-93-5110-201-4',\n",
       " 'Book_Name': 'Learning_Python',\n",
       " 'Book_Author': 'Mark Lutz',\n",
       " 'Book_Publisher': \"O'Reilly\",\n",
       " 'Book_Edition': '5th Edition'}"
      ]
     },
     "execution_count": 4,
     "metadata": {},
     "output_type": "execute_result"
    }
   ],
   "source": [
    "Dict_Creation_Dict_Method"
   ]
  },
  {
   "cell_type": "code",
   "execution_count": 5,
   "metadata": {},
   "outputs": [],
   "source": [
    "# Creating_Dictionary Method#3\n",
    "# Using for Loop\n",
    "Dict_Creation_Dict_Using_For_Loop = {x:x**3 for x in range(1,7)}"
   ]
  },
  {
   "cell_type": "code",
   "execution_count": 6,
   "metadata": {},
   "outputs": [
    {
     "data": {
      "text/plain": [
       "{1: 1, 2: 8, 3: 27, 4: 64, 5: 125, 6: 216}"
      ]
     },
     "execution_count": 6,
     "metadata": {},
     "output_type": "execute_result"
    }
   ],
   "source": [
    "Dict_Creation_Dict_Using_For_Loop"
   ]
  },
  {
   "cell_type": "code",
   "execution_count": 7,
   "metadata": {},
   "outputs": [],
   "source": [
    "Dict_Practice_List = [\"Schmitt\",\"King\",\"Ferguson\",\"Labrune\",\"bergulfsen\",\"Nelson\",\"Piestrzeniewicz\",\n",
    "\"Keitel\",\"Murphy\",\"Lee\",\"Freyre\",\"Berglund\",\"Petersen\",\"Saveley\",\"Natividad\",\"Young\",\"Leong\",\"Hashimoto\",\"Victorino\",\"Oeztan\",\n",
    "\"Franco\",\"de Castro\",\"Rancé\",\"Bertrand\",\"Tseng\",\"King\",\"Kentary\",\"Frick\",\"Karttunen\",\"Ashworth\",\"Cassidy\",\"Taylor\",\"Devon\",\"Tamuri\",\n",
    "\"Barajas\",\"Young\",\"Walker\",\"Citeaux\",\"Gao\",\"Saavedra\",\"Young\",\"Kloss\",\"Ibsen\",\"Fresnière\",\"Camino\",\"Thompson\",\"Bennett\",\"Roulet\",\"Messner\"\n",
    "\"Accorti\",\"Da Silv\",\"Tonini\",\"Pfalzheim\",\"Lincoln\",\"Franken\",\"OHara\",\"Rovelli\",\"Huxley\",\"Hernandez\",\"Harrison\",\"Holz\",\"Klaeboe\",\"Schuyler\",\"Anderse\",\"Koskitalo\",\"Dewey\"\n",
    "\"Frick\",\"Huang\",\"Brown\",\"Graham\",\"Brown\",\"Brown\",\"Calaghan\",\"Suominen\",\"Cramer\",\"Cervantes\",\"Fernandez\",\"Chandler\",\"McKenna\",\n",
    "\"Lebihan\",\"Henriot\",\"Kuger\",\"MacKinlay\",\"Josephs\",\"Yoshido\",\"Young\",\"Rodriguez\",\"Urs\",\"Nelson\",\"Cartrain\",\"Pipps\",\"Cruz\",\"Moroni\"\n",
    "\"Shimamura\",\"Perrier\",\"Müller\",\"McRoy\",\"Donnermeyer\",\"Hernandez\",\"Feuer\",\"Lewis\",\"Larsson\",\"Frick\",\"Mendel\",\"Murphy\"\"Choi\"]"
   ]
  },
  {
   "cell_type": "code",
   "execution_count": 8,
   "metadata": {},
   "outputs": [],
   "source": [
    "Dict_Practice_List_1 = []\n",
    "for x in Dict_Practice_List:\n",
    "    Dict_Practice_List_1.append('Length of {} is {}'.format(x,len(x)))\n",
    "    "
   ]
  },
  {
   "cell_type": "code",
   "execution_count": 9,
   "metadata": {},
   "outputs": [],
   "source": [
    "# Creating_Dictionary Method#4\n",
    "# Using Two list and Zip Method\n",
    "Dict_Creation_Dict_Using_Two_Lists = dict(zip(Dict_Practice_List,Dict_Practice_List_1))"
   ]
  },
  {
   "cell_type": "markdown",
   "metadata": {},
   "source": [
    "# Operators And Functions\n",
    "\n",
    "## Operators"
   ]
  },
  {
   "cell_type": "code",
   "execution_count": 10,
   "metadata": {},
   "outputs": [
    {
     "data": {
      "text/plain": [
       "False"
      ]
     },
     "execution_count": 10,
     "metadata": {},
     "output_type": "execute_result"
    }
   ],
   "source": [
    "# in Operator\n",
    "\n",
    "\"King\" in Dict_Creation_Dict_Using_Two_Lists     #True\n",
    "\n",
    "\"Operators\" in Dict_Creation_Dict_Using_Two_Lists     #False"
   ]
  },
  {
   "cell_type": "code",
   "execution_count": 11,
   "metadata": {},
   "outputs": [
    {
     "data": {
      "text/plain": [
       "True"
      ]
     },
     "execution_count": 11,
     "metadata": {},
     "output_type": "execute_result"
    }
   ],
   "source": [
    "# not in Operator\n",
    "\n",
    "\"King\" not in Dict_Creation_Dict_Using_Two_Lists     #False\n",
    "\n",
    "\"Operators\" not in Dict_Creation_Dict_Using_Two_Lists     #True"
   ]
  },
  {
   "cell_type": "code",
   "execution_count": 12,
   "metadata": {},
   "outputs": [
    {
     "data": {
      "text/plain": [
       "93"
      ]
     },
     "execution_count": 12,
     "metadata": {},
     "output_type": "execute_result"
    }
   ],
   "source": [
    "# len() function returns the number of key-value pairs in a dictionary:\n",
    "\n",
    "len(Dict_Creation_Dict_Using_Two_Lists)"
   ]
  },
  {
   "cell_type": "markdown",
   "metadata": {},
   "source": [
    "## Functions"
   ]
  },
  {
   "cell_type": "code",
   "execution_count": 13,
   "metadata": {},
   "outputs": [
    {
     "data": {
      "text/plain": [
       "{'Schmitt': 'Length of Schmitt is 7',\n",
       " 'King': 'Length of King is 4',\n",
       " 'Ferguson': 'Length of Ferguson is 8',\n",
       " 'Labrune': 'Length of Labrune is 7',\n",
       " 'bergulfsen': 'Length of bergulfsen is 10',\n",
       " 'Nelson': 'Length of Nelson is 6',\n",
       " 'Piestrzeniewicz': 'Length of Piestrzeniewicz is 15',\n",
       " 'Keitel': 'Length of Keitel is 6',\n",
       " 'Murphy': 'Length of Murphy is 6',\n",
       " 'Lee': 'Length of Lee is 3',\n",
       " 'Freyre': 'Length of Freyre is 6',\n",
       " 'Berglund': 'Length of Berglund is 8',\n",
       " 'Petersen': 'Length of Petersen is 8',\n",
       " 'Saveley': 'Length of Saveley is 7',\n",
       " 'Natividad': 'Length of Natividad is 9',\n",
       " 'Young': 'Length of Young is 5',\n",
       " 'Leong': 'Length of Leong is 5',\n",
       " 'Hashimoto': 'Length of Hashimoto is 9',\n",
       " 'Victorino': 'Length of Victorino is 9',\n",
       " 'Oeztan': 'Length of Oeztan is 6',\n",
       " 'Franco': 'Length of Franco is 6',\n",
       " 'de Castro': 'Length of de Castro is 9',\n",
       " 'Rancé': 'Length of Rancé is 5',\n",
       " 'Bertrand': 'Length of Bertrand is 8',\n",
       " 'Tseng': 'Length of Tseng is 5',\n",
       " 'Kentary': 'Length of Kentary is 7',\n",
       " 'Frick': 'Length of Frick is 5',\n",
       " 'Karttunen': 'Length of Karttunen is 9',\n",
       " 'Ashworth': 'Length of Ashworth is 8',\n",
       " 'Cassidy': 'Length of Cassidy is 7',\n",
       " 'Taylor': 'Length of Taylor is 6',\n",
       " 'Devon': 'Length of Devon is 5',\n",
       " 'Tamuri': 'Length of Tamuri is 6',\n",
       " 'Barajas': 'Length of Barajas is 7',\n",
       " 'Walker': 'Length of Walker is 6',\n",
       " 'Citeaux': 'Length of Citeaux is 7',\n",
       " 'Gao': 'Length of Gao is 3',\n",
       " 'Saavedra': 'Length of Saavedra is 8',\n",
       " 'Kloss': 'Length of Kloss is 5',\n",
       " 'Ibsen': 'Length of Ibsen is 5',\n",
       " 'Fresnière': 'Length of Fresnière is 9',\n",
       " 'Camino': 'Length of Camino is 6',\n",
       " 'Thompson': 'Length of Thompson is 8',\n",
       " 'Bennett': 'Length of Bennett is 7',\n",
       " 'Roulet': 'Length of Roulet is 6',\n",
       " 'MessnerAccorti': 'Length of MessnerAccorti is 14',\n",
       " 'Da Silv': 'Length of Da Silv is 7',\n",
       " 'Tonini': 'Length of Tonini is 6',\n",
       " 'Pfalzheim': 'Length of Pfalzheim is 9',\n",
       " 'Lincoln': 'Length of Lincoln is 7',\n",
       " 'Franken': 'Length of Franken is 7',\n",
       " 'OHara': 'Length of OHara is 5',\n",
       " 'Rovelli': 'Length of Rovelli is 7',\n",
       " 'Huxley': 'Length of Huxley is 6',\n",
       " 'Hernandez': 'Length of Hernandez is 9',\n",
       " 'Harrison': 'Length of Harrison is 8',\n",
       " 'Holz': 'Length of Holz is 4',\n",
       " 'Klaeboe': 'Length of Klaeboe is 7',\n",
       " 'Schuyler': 'Length of Schuyler is 8',\n",
       " 'Anderse': 'Length of Anderse is 7',\n",
       " 'Koskitalo': 'Length of Koskitalo is 9',\n",
       " 'DeweyFrick': 'Length of DeweyFrick is 10',\n",
       " 'Huang': 'Length of Huang is 5',\n",
       " 'Brown': 'Length of Brown is 5',\n",
       " 'Graham': 'Length of Graham is 6',\n",
       " 'Calaghan': 'Length of Calaghan is 8',\n",
       " 'Suominen': 'Length of Suominen is 8',\n",
       " 'Cramer': 'Length of Cramer is 6',\n",
       " 'Cervantes': 'Length of Cervantes is 9',\n",
       " 'Fernandez': 'Length of Fernandez is 9',\n",
       " 'Chandler': 'Length of Chandler is 8',\n",
       " 'McKenna': 'Length of McKenna is 7',\n",
       " 'Lebihan': 'Length of Lebihan is 7',\n",
       " 'Henriot': 'Length of Henriot is 7',\n",
       " 'Kuger': 'Length of Kuger is 5',\n",
       " 'MacKinlay': 'Length of MacKinlay is 9',\n",
       " 'Josephs': 'Length of Josephs is 7',\n",
       " 'Yoshido': 'Length of Yoshido is 7',\n",
       " 'Rodriguez': 'Length of Rodriguez is 9',\n",
       " 'Urs': 'Length of Urs is 3',\n",
       " 'Cartrain': 'Length of Cartrain is 8',\n",
       " 'Pipps': 'Length of Pipps is 5',\n",
       " 'Cruz': 'Length of Cruz is 4',\n",
       " 'MoroniShimamura': 'Length of MoroniShimamura is 15',\n",
       " 'Perrier': 'Length of Perrier is 7',\n",
       " 'Müller': 'Length of Müller is 6',\n",
       " 'McRoy': 'Length of McRoy is 5',\n",
       " 'Donnermeyer': 'Length of Donnermeyer is 11',\n",
       " 'Feuer': 'Length of Feuer is 5',\n",
       " 'Lewis': 'Length of Lewis is 5',\n",
       " 'Larsson': 'Length of Larsson is 7',\n",
       " 'Mendel': 'Length of Mendel is 6',\n",
       " 'MurphyChoi': 'Length of MurphyChoi is 10'}"
      ]
     },
     "execution_count": 13,
     "metadata": {},
     "output_type": "execute_result"
    }
   ],
   "source": [
    "# clear() Empties Dictionary\n",
    "Dict_Creation_Dict_Using_Two_Lists"
   ]
  },
  {
   "cell_type": "code",
   "execution_count": 14,
   "metadata": {},
   "outputs": [],
   "source": [
    "Dict_Creation_Dict_Using_Two_Lists.clear()"
   ]
  },
  {
   "cell_type": "code",
   "execution_count": 15,
   "metadata": {},
   "outputs": [
    {
     "data": {
      "text/plain": [
       "{}"
      ]
     },
     "execution_count": 15,
     "metadata": {},
     "output_type": "execute_result"
    }
   ],
   "source": [
    "Dict_Creation_Dict_Using_Two_Lists"
   ]
  },
  {
   "cell_type": "code",
   "execution_count": 16,
   "metadata": {},
   "outputs": [
    {
     "data": {
      "text/plain": [
       "1"
      ]
     },
     "execution_count": 16,
     "metadata": {},
     "output_type": "execute_result"
    }
   ],
   "source": [
    "# get(Key, <default>) The Python dictionary .get() method provides a convenient way of getting the value of a key from a dictionary without checking ahead of time whether the key exists, and without raising an error.\n",
    "#default Parameter Default value is -1\n",
    "#default Parameter is optional If Specified as \"1\" returns 1 if Searched Key is not found.\n",
    "\n",
    "Dict_Creation_Dict_Using_Two_Lists.get(\"Cruz\")\n",
    "\n",
    "Dict_Creation_Dict_Using_Two_Lists.get(\"Python\",1)   #Returns 1 If Key Not Found\n"
   ]
  },
  {
   "cell_type": "code",
   "execution_count": 17,
   "metadata": {},
   "outputs": [
    {
     "data": {
      "text/plain": [
       "dict_items([('Book_ISBN', '978-93-5110-201-4'), ('Book_Name', 'Learning_Python'), ('Book_Author', 'Mark Lutz'), ('Book_Publisher', \"O'Reilly\"), ('Book_Edition', '5th Edition')])"
      ]
     },
     "execution_count": 17,
     "metadata": {},
     "output_type": "execute_result"
    }
   ],
   "source": [
    "# items()     -->Returns a list of key-value pairs in a dictionary.\n",
    "# returns a list of tuples containing the key-value pairs in d. The first item in each tuple is the key, and the second item is the key’s value.\n",
    "\n",
    "Dict_Creation.items()"
   ]
  },
  {
   "cell_type": "code",
   "execution_count": 18,
   "metadata": {},
   "outputs": [
    {
     "data": {
      "text/plain": [
       "dict_keys(['Book_ISBN', 'Book_Name', 'Book_Author', 'Book_Publisher', 'Book_Edition'])"
      ]
     },
     "execution_count": 18,
     "metadata": {},
     "output_type": "execute_result"
    }
   ],
   "source": [
    "# keys()     -->Returns a list of keys in a dictionary.\n",
    "# returns a list containing the key in dictionary.\n",
    "\n",
    "Dict_Creation.keys()"
   ]
  },
  {
   "cell_type": "code",
   "execution_count": 19,
   "metadata": {},
   "outputs": [
    {
     "data": {
      "text/plain": [
       "dict_values(['978-93-5110-201-4', 'Learning_Python', 'Mark Lutz', \"O'Reilly\", '5th Edition'])"
      ]
     },
     "execution_count": 19,
     "metadata": {},
     "output_type": "execute_result"
    }
   ],
   "source": [
    "# values()     -->Returns a list of values in a dictionary.\n",
    "# returns a list containing the Values in dictionary.\n",
    "\n",
    "Dict_Creation.values()"
   ]
  },
  {
   "cell_type": "code",
   "execution_count": 20,
   "metadata": {},
   "outputs": [],
   "source": [
    "# del     -->Used to Delete Entry in dictionary.\n",
    "\n",
    "del Dict_Creation['Book_Author']"
   ]
  },
  {
   "cell_type": "code",
   "execution_count": 21,
   "metadata": {},
   "outputs": [
    {
     "data": {
      "text/plain": [
       "{'Book_ISBN': '978-93-5110-201-4',\n",
       " 'Book_Name': 'Learning_Python',\n",
       " 'Book_Publisher': \"O'Reilly\",\n",
       " 'Book_Edition': '5th Edition'}"
      ]
     },
     "execution_count": 21,
     "metadata": {},
     "output_type": "execute_result"
    }
   ],
   "source": [
    "Dict_Creation"
   ]
  },
  {
   "cell_type": "code",
   "execution_count": 22,
   "metadata": {},
   "outputs": [
    {
     "data": {
      "text/plain": [
       "1"
      ]
     },
     "execution_count": 22,
     "metadata": {},
     "output_type": "execute_result"
    }
   ],
   "source": [
    "# pop(Key, <default>)     -->Removes a key from a dictionary, if it is present, and returns its value.\n",
    "\n",
    "#default Parameter Default value is -1\n",
    "#default Parameter is optional If Specified as \"1\" returns 1 if Searched Key is not found.\n",
    "\n",
    "Dict_Creation_Dict_Using_Two_Lists.pop(\"Cruz\",\"3\")\n",
    "\n",
    "Dict_Creation_Dict_Using_Two_Lists.get(\"Vignesh\",1)   #Returns 1 If Vignesh Not Found\n"
   ]
  },
  {
   "cell_type": "code",
   "execution_count": 23,
   "metadata": {},
   "outputs": [
    {
     "data": {
      "text/plain": [
       "{'Book_ISBN': '978-93-5110-201-4',\n",
       " 'Book_Name': 'Learning_Python',\n",
       " 'Book_Publisher': \"O'Reilly\"}"
      ]
     },
     "execution_count": 23,
     "metadata": {},
     "output_type": "execute_result"
    }
   ],
   "source": [
    "# popitem()     -->Removes a key-value pair from a dictionary.\n",
    "\n",
    "Dict_Creation\n",
    "\n",
    "Dict_Creation.popitem()\n",
    "\n",
    "Dict_Creation"
   ]
  },
  {
   "cell_type": "code",
   "execution_count": 24,
   "metadata": {},
   "outputs": [
    {
     "data": {
      "text/plain": [
       "{'Book_ISBN': '978-93-5110-201-4',\n",
       " 'Book_Name': 'Learning_Python',\n",
       " 'Book_Publisher': \"O'Reilly\",\n",
       " 1: 1,\n",
       " 2: 8,\n",
       " 3: 27,\n",
       " 4: 64,\n",
       " 5: 125,\n",
       " 6: 216}"
      ]
     },
     "execution_count": 24,
     "metadata": {},
     "output_type": "execute_result"
    }
   ],
   "source": [
    "# update(<obj>)     -->Merges a dictionary with another dictionary or with an iterable of key-value pairs.\n",
    "\n",
    "Dict_Creation.update(Dict_Creation_Dict_Using_For_Loop)\n",
    "\n",
    "Dict_Creation"
   ]
  }
 ],
 "metadata": {
  "kernelspec": {
   "display_name": "Python 3",
   "language": "python",
   "name": "python3"
  },
  "language_info": {
   "codemirror_mode": {
    "name": "ipython",
    "version": 3
   },
   "file_extension": ".py",
   "mimetype": "text/x-python",
   "name": "python",
   "nbconvert_exporter": "python",
   "pygments_lexer": "ipython3",
   "version": "3.8.5"
  }
 },
 "nbformat": 4,
 "nbformat_minor": 4
}
