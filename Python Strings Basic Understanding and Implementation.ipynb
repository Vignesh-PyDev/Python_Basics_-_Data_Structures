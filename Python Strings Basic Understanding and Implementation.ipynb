{
 "cells": [
  {
   "cell_type": "markdown",
   "metadata": {},
   "source": [
    "# Python Strings\n",
    "\n",
    "Python has a built-in string class named \"str\" with many handy features.\n",
    "\n",
    "String literals can be enclosed by either double or single quotes, although single quotes are more commonly used.\n",
    "\n",
    "Python strings are \"immutable\" which means they cannot be changed after they are created.\n",
    "\n",
    "Characters in a string can be accessed using the standard [] syntax.\n",
    "\n",
    "Python uses zero-based indexing, so if s is 'hello' s[1] is 'e'. \n",
    "\n",
    "If the index is out of bounds for the string, Python raises an error. \n",
    "\n",
    "The len(string) function returns the length of a string."
   ]
  },
  {
   "cell_type": "code",
   "execution_count": 7,
   "metadata": {},
   "outputs": [],
   "source": [
    "# String Declaration\n",
    "\n",
    "String_1 = \"Python Strings\"\n",
    "String_2 = \"Understanding and Implementation\"\n",
    "String_List_3 = [\"Schmitt\",\"King\",\"Ferguson\",\"Labrune\",\"bergulfsen\",\"Nelson\",\"Piestrzeniewicz\",\n",
    "\"Keitel\",\"Murphy\",\"Lee\",\"Freyre\",\"Berglund\",\"Petersen\",\"Saveley\",\"Natividad\",\"Young\",\"Leong\",\"Hashimoto\",\"Victorino\",\"Oeztan\",\n",
    "\"Franco\",\"de Castro\",\"Rancé\",\"Bertrand\",\"Tseng\",\"King\",\"Kentary\",\"Frick\",\"Karttunen\",\"Ashworth\",\"Cassidy\",\"Taylor\",\"Devon\",\"Tamuri\",\n",
    "\"Barajas\",\"Young\",\"Walker\",\"Citeaux\",\"Gao\",\"Saavedra\",\"Young\",\"Kloss\",\"Ibsen\",\"Fresnière\",\"Camino\",\"Thompson\",\"Bennett\",\"Roulet\",\"Messner\"\n",
    "\"Accorti\",\"Da Silv\",\"Tonini\",\"Pfalzheim\",\"Lincoln\",\"Franken\",\"OHara\",\"Rovelli\",\"Huxley\",\"Hernandez\",\"Harrison\",\"Holz\",\"Klaeboe\",\"Schuyler\",\"Anderse\",\"Koskitalo\",\"Dewey\"\n",
    "\"Frick\",\"Huang\",\"Brown\",\"Graham\",\"Brown\",\"Brown\",\"Calaghan\",\"Suominen\",\"Cramer\",\"Cervantes\",\"Fernandez\",\"Chandler\",\"McKenna\",\n",
    "\"Lebihan\",\"Henriot\",\"Kuger\",\"MacKinlay\",\"Josephs\",\"Yoshido\",\"Young\",\"Rodriguez\",\"Urs\",\"Nelson\",\"Cartrain\",\"Pipps\",\"Cruz\",\"Moroni\"\n",
    "\"Shimamura\",\"Perrier\",\"Müller\",\"McRoy\",\"Donnermeyer\",\"Hernandez\",\"Feuer\",\"Lewis\",\"Larsson\",\"Frick\",\"Mendel\",\"Murphy\"\"Choi\"]\n"
   ]
  },
  {
   "cell_type": "code",
   "execution_count": 8,
   "metadata": {},
   "outputs": [
    {
     "data": {
      "text/plain": [
       "'Understanding and Implementation'"
      ]
     },
     "execution_count": 8,
     "metadata": {},
     "output_type": "execute_result"
    }
   ],
   "source": [
    "String_1\n",
    "String_2"
   ]
  },
  {
   "cell_type": "markdown",
   "metadata": {},
   "source": [
    "# String Operators"
   ]
  },
  {
   "cell_type": "code",
   "execution_count": 9,
   "metadata": {},
   "outputs": [],
   "source": [
    "# The + Operator\n",
    "#The + operator concatenates strings. It returns a string consisting of the operands joined together:\n",
    "String_Concat_Operator = String_1 +' '+ String_2\n"
   ]
  },
  {
   "cell_type": "code",
   "execution_count": 11,
   "metadata": {},
   "outputs": [
    {
     "data": {
      "text/plain": [
       "'Python Strings Understanding and Implementation'"
      ]
     },
     "execution_count": 11,
     "metadata": {},
     "output_type": "execute_result"
    }
   ],
   "source": [
    "String_Concat_Operator"
   ]
  },
  {
   "cell_type": "code",
   "execution_count": 12,
   "metadata": {},
   "outputs": [],
   "source": [
    "#The * Operator\n",
    "#The * operator creates multiple copies of a string.\n",
    "String_Multi_Operator = (String_1+' ') *3"
   ]
  },
  {
   "cell_type": "code",
   "execution_count": 13,
   "metadata": {},
   "outputs": [
    {
     "data": {
      "text/plain": [
       "'Python Strings Python Strings Python Strings '"
      ]
     },
     "execution_count": 13,
     "metadata": {},
     "output_type": "execute_result"
    }
   ],
   "source": [
    "String_Multi_Operator"
   ]
  },
  {
   "cell_type": "markdown",
   "metadata": {},
   "source": [
    "# The in Operator and not in Operator\n",
    "    Python also provides a membership operator that can be used with strings. The in operator returns True if the first operand is contained within the second, and False otherwise:"
   ]
  },
  {
   "cell_type": "code",
   "execution_count": 14,
   "metadata": {},
   "outputs": [
    {
     "data": {
      "text/plain": [
       "True"
      ]
     },
     "execution_count": 14,
     "metadata": {},
     "output_type": "execute_result"
    }
   ],
   "source": [
    "# Using in Operator\n",
    "String_1 in (String_1 + String_2)\n",
    "\"r\" in 'operator'"
   ]
  },
  {
   "cell_type": "code",
   "execution_count": 15,
   "metadata": {},
   "outputs": [
    {
     "data": {
      "text/plain": [
       "False"
      ]
     },
     "execution_count": 15,
     "metadata": {},
     "output_type": "execute_result"
    }
   ],
   "source": [
    "# Using not in Operator\n",
    "String_1 not in (String_1 + String_2)\n",
    "\"r\"  not in 'operator'"
   ]
  },
  {
   "cell_type": "markdown",
   "metadata": {},
   "source": [
    "# String Indexing\n",
    "Often in programming languages, individual items in an ordered set of data can be accessed directly using a numeric index or key value. This process is referred to as indexing.\n",
    "\n",
    "In Python, strings are ordered sequences of character data, and thus can be indexed in this way. Individual characters in a string can be accessed by specifying the string name followed by a number in square brackets ([]).\n",
    "\n",
    "String indexing in Python is zero-based: the first character in the string has index 0, the next has index 1, and so on. The index of the last character will be the length of the string minus one.\n",
    "\n",
    "String indices can also be specified with negative numbers, in which case indexing occurs from the end of the string backward: -1 refers to the last character, -2 the second-to-last character"
   ]
  },
  {
   "attachments": {
    "google_str.png": {
     "image/png": "[encoded data removed]"
    }
   },
   "cell_type": "markdown",
   "metadata": {},
   "source": [
    "![google_str.png](attachment:google_str.png)"
   ]
  },
  {
   "cell_type": "code",
   "execution_count": 16,
   "metadata": {},
   "outputs": [],
   "source": [
    "String_Indexing_Ex_1 = \"Python Strings Basic Understanding and Implementation\""
   ]
  },
  {
   "cell_type": "code",
   "execution_count": 17,
   "metadata": {},
   "outputs": [
    {
     "data": {
      "text/plain": [
       "'n'"
      ]
     },
     "execution_count": 17,
     "metadata": {},
     "output_type": "execute_result"
    }
   ],
   "source": [
    "String_Indexing_Ex_1[0]     #Prints First Character i.e Index 0\n",
    "String_Indexing_Ex_1[-1]     #Prints Last Character i.e Index -1"
   ]
  },
  {
   "cell_type": "markdown",
   "metadata": {},
   "source": [
    "# String Slicing\n",
    "\n",
    "## Syntax:\n",
    "\n",
    "   ## String[start:Stop:Step]\n",
    "\n",
    "\n"
   ]
  },
  {
   "cell_type": "code",
   "execution_count": 18,
   "metadata": {},
   "outputs": [
    {
     "data": {
      "text/plain": [
       "'Python Strings Basic Understanding and Implementation'"
      ]
     },
     "execution_count": 18,
     "metadata": {},
     "output_type": "execute_result"
    }
   ],
   "source": [
    "String_Indexing_Ex_1[0:]     #Prints all Character Starts From Index 0"
   ]
  },
  {
   "cell_type": "code",
   "execution_count": 19,
   "metadata": {},
   "outputs": [
    {
     "data": {
      "text/plain": [
       "'n St'"
      ]
     },
     "execution_count": 19,
     "metadata": {},
     "output_type": "execute_result"
    }
   ],
   "source": [
    "String_Indexing_Ex_1[5:9]     #Prints Characters Between Index 5 to 8"
   ]
  },
  {
   "cell_type": "code",
   "execution_count": 20,
   "metadata": {},
   "outputs": [
    {
     "data": {
      "text/plain": [
       "'Ph '"
      ]
     },
     "execution_count": 20,
     "metadata": {},
     "output_type": "execute_result"
    }
   ],
   "source": [
    "String_Indexing_Ex_1[0:9:3]     #Prints Characters Between Index 0 to 8 with Step 3"
   ]
  },
  {
   "cell_type": "code",
   "execution_count": 21,
   "metadata": {},
   "outputs": [
    {
     "data": {
      "text/plain": [
       "'ion'"
      ]
     },
     "execution_count": 21,
     "metadata": {},
     "output_type": "execute_result"
    }
   ],
   "source": [
    "String_Indexing_Ex_1[-3:]     #Prints Last 3 Characters."
   ]
  },
  {
   "cell_type": "code",
   "execution_count": 22,
   "metadata": {},
   "outputs": [
    {
     "data": {
      "text/plain": [
       "'mentat'"
      ]
     },
     "execution_count": 22,
     "metadata": {},
     "output_type": "execute_result"
    }
   ],
   "source": [
    "String_Indexing_Ex_1[-9:-3]     #Prints Character i.e Index -9 to -3"
   ]
  },
  {
   "cell_type": "code",
   "execution_count": 23,
   "metadata": {},
   "outputs": [
    {
     "data": {
      "text/plain": [
       "'noitatnemelpmI dna gnidnatsrednU cisaB sgnirtS nohtyP'"
      ]
     },
     "execution_count": 23,
     "metadata": {},
     "output_type": "execute_result"
    }
   ],
   "source": [
    "String_Indexing_Ex_1[::-1]     #Prints String in Reverse Order"
   ]
  },
  {
   "cell_type": "code",
   "execution_count": 24,
   "metadata": {},
   "outputs": [
    {
     "data": {
      "text/plain": [
       "'peett'"
      ]
     },
     "execution_count": 24,
     "metadata": {},
     "output_type": "execute_result"
    }
   ],
   "source": [
    "String_Indexing_Ex_1[-12:-2:2]     #Prints Last Character i.e Index -12 to -2 with Step 2"
   ]
  },
  {
   "cell_type": "code",
   "execution_count": 25,
   "metadata": {},
   "outputs": [
    {
     "data": {
      "text/plain": [
       "'Python Strings Basic Understanding and Implementation'"
      ]
     },
     "execution_count": 25,
     "metadata": {},
     "output_type": "execute_result"
    }
   ],
   "source": [
    "String_Indexing_Ex_1[:]    #Gives us a copy of the whole String"
   ]
  },
  {
   "cell_type": "markdown",
   "metadata": {},
   "source": [
    "# String Functions"
   ]
  },
  {
   "cell_type": "code",
   "execution_count": 26,
   "metadata": {},
   "outputs": [
    {
     "data": {
      "text/plain": [
       "'a'"
      ]
     },
     "execution_count": 26,
     "metadata": {},
     "output_type": "execute_result"
    }
   ],
   "source": [
    "# chr()  #-->Converts an integer(i.e ASCII Value) to a character\n",
    "\n",
    "chr(97)"
   ]
  },
  {
   "cell_type": "code",
   "execution_count": 27,
   "metadata": {},
   "outputs": [
    {
     "data": {
      "text/plain": [
       "57"
      ]
     },
     "execution_count": 27,
     "metadata": {},
     "output_type": "execute_result"
    }
   ],
   "source": [
    "# ord()  #-->Converts Given Character to an Integer(i.e ASCII Value).\n",
    "\n",
    "ord(\"9\")"
   ]
  },
  {
   "cell_type": "code",
   "execution_count": 28,
   "metadata": {},
   "outputs": [
    {
     "data": {
      "text/plain": [
       "10"
      ]
     },
     "execution_count": 28,
     "metadata": {},
     "output_type": "execute_result"
    }
   ],
   "source": [
    "# len()  #-->Converts Given Character to an Integer(i.e ASCII Value).\n",
    "\n",
    "len(\"9597218896\")"
   ]
  },
  {
   "cell_type": "code",
   "execution_count": 29,
   "metadata": {},
   "outputs": [
    {
     "data": {
      "text/plain": [
       "'1345'"
      ]
     },
     "execution_count": 29,
     "metadata": {},
     "output_type": "execute_result"
    }
   ],
   "source": [
    "# str()  #-->Returns a string representation of an object(i.e Converts Given Value to String)\n",
    "\n",
    "\n",
    "str(1345)"
   ]
  },
  {
   "cell_type": "markdown",
   "metadata": {},
   "source": [
    "# Case Conversion Functions"
   ]
  },
  {
   "cell_type": "code",
   "execution_count": 30,
   "metadata": {},
   "outputs": [
    {
     "data": {
      "text/plain": [
       "'Test string to test capitalize function'"
      ]
     },
     "execution_count": 30,
     "metadata": {},
     "output_type": "execute_result"
    }
   ],
   "source": [
    "# capitalize()     -->Capitalizes the target string.\n",
    "\n",
    "String_Test_Capitalize = \"Test String to Test Capitalize Function\"\n",
    "\n",
    "String_Test_Capitalize.capitalize()\n"
   ]
  },
  {
   "cell_type": "code",
   "execution_count": 31,
   "metadata": {},
   "outputs": [
    {
     "data": {
      "text/plain": [
       "'test string to test lowercase function'"
      ]
     },
     "execution_count": 31,
     "metadata": {},
     "output_type": "execute_result"
    }
   ],
   "source": [
    "# lower()     -->Converts alphabetic characters to lowercase.\n",
    "\n",
    "String_Test_Lower = \"Test String to Test LowerCase Function\"\n",
    "\n",
    "String_Test_Lower.lower()"
   ]
  },
  {
   "cell_type": "code",
   "execution_count": 32,
   "metadata": {},
   "outputs": [
    {
     "data": {
      "text/plain": [
       "'TEST STRING TO TEST UPPERCASE FUNCTION'"
      ]
     },
     "execution_count": 32,
     "metadata": {},
     "output_type": "execute_result"
    }
   ],
   "source": [
    "# upper()     -->Converts alphabetic characters to uppercase.\n",
    "\n",
    "String_Test_Upper = \"Test String to Test UpperCase Function\"\n",
    "\n",
    "String_Test_Upper.upper()"
   ]
  },
  {
   "cell_type": "code",
   "execution_count": 33,
   "metadata": {},
   "outputs": [
    {
     "data": {
      "text/plain": [
       "'tEST sTRING TO tEST sWAPcASE fUNCTION'"
      ]
     },
     "execution_count": 33,
     "metadata": {},
     "output_type": "execute_result"
    }
   ],
   "source": [
    "# swapcase()     -->Swaps case of alphabetic characters.\n",
    "\n",
    "String_Test_SwapCase = \"Test String to Test SwapCase Function\"\n",
    "\n",
    "String_Test_SwapCase.swapcase()"
   ]
  },
  {
   "cell_type": "code",
   "execution_count": 34,
   "metadata": {},
   "outputs": [
    {
     "data": {
      "text/plain": [
       "'Test String To Test Title Function'"
      ]
     },
     "execution_count": 34,
     "metadata": {},
     "output_type": "execute_result"
    }
   ],
   "source": [
    "# title()     -->Converts the target string to “title case.”\n",
    "\n",
    "String_Test_Title = \"test string to test title function\"\n",
    "\n",
    "String_Test_Title.title()"
   ]
  },
  {
   "cell_type": "code",
   "execution_count": 35,
   "metadata": {},
   "outputs": [
    {
     "data": {
      "text/plain": [
       "'test string to test casefold function'"
      ]
     },
     "execution_count": 35,
     "metadata": {},
     "output_type": "execute_result"
    }
   ],
   "source": [
    "# CaseFold()     -->Return a version of the string suitable for caseless comparisons.\n",
    "\n",
    "String_Test_CaseFold = \"Test String to Test CaseFold Function\"\n",
    "\n",
    "String_Test_CaseFold.casefold()"
   ]
  },
  {
   "cell_type": "markdown",
   "metadata": {},
   "source": [
    "# String Find and Replace Functions."
   ]
  },
  {
   "cell_type": "code",
   "execution_count": 36,
   "metadata": {},
   "outputs": [
    {
     "data": {
      "text/plain": [
       "1"
      ]
     },
     "execution_count": 36,
     "metadata": {},
     "output_type": "execute_result"
    }
   ],
   "source": [
    "# count()     -->Return a version of the string suitable for caseless comparisons.\n",
    "\n",
    "#S.count(Sub_String, Start_Index, Stop_Index) -> int   S-->String\n",
    "\n",
    "String_Test_Count = \"Test String to Test Count Function\"\n",
    "\n",
    "String_Test_Count.count('T')\n",
    "\n",
    "String_Test_Count.count('e',2,19)    #With Start,Stop Index"
   ]
  },
  {
   "cell_type": "code",
   "execution_count": 37,
   "metadata": {},
   "outputs": [
    {
     "data": {
      "text/plain": [
       "['capitalize',\n",
       " 'casefold',\n",
       " 'center',\n",
       " 'count',\n",
       " 'encode',\n",
       " 'endswith',\n",
       " 'expandtabs',\n",
       " 'find',\n",
       " 'format',\n",
       " 'format_map',\n",
       " 'index',\n",
       " 'isalnum',\n",
       " 'isalpha',\n",
       " 'isascii',\n",
       " 'isdecimal',\n",
       " 'isdigit',\n",
       " 'isidentifier',\n",
       " 'islower',\n",
       " 'isnumeric',\n",
       " 'isprintable',\n",
       " 'isspace',\n",
       " 'istitle',\n",
       " 'isupper',\n",
       " 'join',\n",
       " 'ljust',\n",
       " 'lower',\n",
       " 'lstrip',\n",
       " 'maketrans',\n",
       " 'partition',\n",
       " 'replace',\n",
       " 'rfind',\n",
       " 'rindex',\n",
       " 'rjust',\n",
       " 'rpartition',\n",
       " 'rsplit',\n",
       " 'rstrip',\n",
       " 'split',\n",
       " 'splitlines',\n",
       " 'startswith',\n",
       " 'strip',\n",
       " 'swapcase',\n",
       " 'title',\n",
       " 'translate',\n",
       " 'upper',\n",
       " 'zfill']"
      ]
     },
     "execution_count": 37,
     "metadata": {},
     "output_type": "execute_result"
    }
   ],
   "source": [
    "import re\n",
    "String_Find_Replace_Fn_Test  = []\n",
    "for x in dir(str):\n",
    "    if(re.search(r'^[a-z]',x)):\n",
    "        String_Find_Replace_Fn_Test.append(x)\n",
    "String_Find_Replace_Fn_Test"
   ]
  },
  {
   "cell_type": "code",
   "execution_count": 38,
   "metadata": {},
   "outputs": [
    {
     "data": {
      "text/plain": [
       "['Schmitt', 'Saveley', 'Saavedra', 'Schuyler', 'Suominen']"
      ]
     },
     "execution_count": 38,
     "metadata": {},
     "output_type": "execute_result"
    }
   ],
   "source": [
    "# startswith(Sub_String, Start_Index, Stop_Index)     -->Determines whether the target string ends with a given substring.\n",
    "# Emits/Returns True or False.\n",
    "# Here Start and Stop is Optional\n",
    "# str.startswith(\"Some_String\",4) refers Consider String From Position 4\n",
    "\n",
    "String_Find_Replace_Fn_StartsWith = []\n",
    "for x in String_List_3:\n",
    "    if x.startswith(\"S\"):\n",
    "        String_Find_Replace_Fn_StartsWith.append(x)\n",
    "\n",
    "String_Find_Replace_Fn_StartsWith       "
   ]
  },
  {
   "cell_type": "code",
   "execution_count": 39,
   "metadata": {},
   "outputs": [
    {
     "data": {
      "text/plain": [
       "['Keitel',\n",
       " 'Victorino',\n",
       " 'Oeztan',\n",
       " 'Bertrand',\n",
       " 'Kentary',\n",
       " 'Karttunen',\n",
       " 'Cartrain']"
      ]
     },
     "execution_count": 39,
     "metadata": {},
     "output_type": "execute_result"
    }
   ],
   "source": [
    "String_Find_Replace_Fn_StartsWith_Index = []\n",
    "for x in String_List_3:\n",
    "        if x.startswith(\"t\",3,5):\n",
    "            String_Find_Replace_Fn_StartsWith_Index.append(x)\n",
    "String_Find_Replace_Fn_StartsWith_Index"
   ]
  },
  {
   "cell_type": "code",
   "execution_count": 40,
   "metadata": {},
   "outputs": [
    {
     "data": {
      "text/plain": [
       "['count', 'format', 'isdigit', 'ljust', 'rjust', 'rsplit', 'split']"
      ]
     },
     "execution_count": 40,
     "metadata": {},
     "output_type": "execute_result"
    }
   ],
   "source": [
    "# endswith(Sub_String, Start_Index, Stop_Index)     -->Determines whether the target string ends with a given substring.\n",
    "# Emits/Returns True or False.\n",
    "# Here Start and Stop is Optional\n",
    "# str.endswith(\"Some_String\",4) refers Consider String From Position 4\n",
    "\n",
    "String_Find_Replace_Fn_EndsWith = []\n",
    "for x in String_Find_Replace_Fn_Test:\n",
    "    if x.endswith(\"t\"):\n",
    "        String_Find_Replace_Fn_EndsWith.append(x)\n",
    "\n",
    "String_Find_Replace_Fn_EndsWith       \n"
   ]
  },
  {
   "cell_type": "code",
   "execution_count": 41,
   "metadata": {},
   "outputs": [
    {
     "data": {
      "text/plain": [
       "['Piestrzeniewicz', 'Karttunen']"
      ]
     },
     "execution_count": 41,
     "metadata": {},
     "output_type": "execute_result"
    }
   ],
   "source": [
    "String_Find_Replace_Fn_EndsWith_Index = []\n",
    "for x in String_List_3:\n",
    "        if x.endswith(\"t\",0,5):\n",
    "            String_Find_Replace_Fn_EndsWith_Index.append(x)\n",
    "String_Find_Replace_Fn_EndsWith_Index"
   ]
  },
  {
   "cell_type": "code",
   "execution_count": 42,
   "metadata": {},
   "outputs": [
    {
     "data": {
      "text/plain": [
       "300"
      ]
     },
     "execution_count": 42,
     "metadata": {},
     "output_type": "execute_result"
    }
   ],
   "source": [
    "# find(Sub_String, Start_Index, Stop_Index)     -->Searches the target string for a given substring.\n",
    "# returns the lowest index where substring is found\n",
    "#returns -1 if substring is not found\n",
    "\n",
    "String_Find_Replace_Fn_Find = \"Here are some of the most common string methods. A method is like a function, but it runs \\\"on\\\" an object. If the variable s is a string, then the code s.lower() runs the lower() method on that string object and returns the result (this idea of a method running on an object is one of the basic ideas that make up Object Oriented Programming, OOP). Here are some of the most common string methods\"\n",
    "\n",
    "String_Find_Replace_Fn_Find.find('that',189) # Finds that after 188th index\n"
   ]
  },
  {
   "cell_type": "code",
   "execution_count": 43,
   "metadata": {},
   "outputs": [
    {
     "data": {
      "text/plain": [
       "33"
      ]
     },
     "execution_count": 43,
     "metadata": {},
     "output_type": "execute_result"
    }
   ],
   "source": [
    "# index(Sub_String, Start_Index, Stop_Index)     -->Searches the target string for a given substring.\n",
    "# returns the lowest index where substring is found\n",
    "#raises error if substring is not found\n",
    "\n",
    "String_Find_Replace_Fn_Index = \"Here are some of the most common string methods. A method is like a function, but it runs \\\"on\\\" an object. If the variable s is a string, then the code s.lower() runs the lower() method on that string object and returns the result (this idea of a method running on an object is one of the basic ideas that make up Object Oriented Programming, OOP). Here are some of the most common string methods\"\n",
    "\n",
    "String_Find_Replace_Fn_Index.index('string') # Finds that after 188th index\n"
   ]
  },
  {
   "cell_type": "code",
   "execution_count": 44,
   "metadata": {},
   "outputs": [
    {
     "data": {
      "text/plain": [
       "388"
      ]
     },
     "execution_count": 44,
     "metadata": {},
     "output_type": "execute_result"
    }
   ],
   "source": [
    "# rfind(Sub_String, Start_Index, Stop_Index))     -->Searches the target string for a given substring starting at the end.\n",
    "# returns the Highest index where substring is found\n",
    "#returns -1 if substring is not found\n",
    "\n",
    "String_Find_Replace_Fn_Rfind = \"Here are some of the most common string methods. A method is like a function, but it runs \\\"on\\\" an object. If the variable s is a string, then the code s.lower() runs the lower() method on that string object and returns the result (this idea of a method running on an object is one of the basic ideas that make up Object Oriented Programming, OOP). Here are some of the most common string methods\"\n",
    "\n",
    "String_Find_Replace_Fn_Find.rfind('method') # Finds that after 188th index\n"
   ]
  },
  {
   "cell_type": "code",
   "execution_count": 45,
   "metadata": {},
   "outputs": [
    {
     "data": {
      "text/plain": [
       "267"
      ]
     },
     "execution_count": 45,
     "metadata": {},
     "output_type": "execute_result"
    }
   ],
   "source": [
    "# rindex(Sub_String, Start_Index, Stop_Index))     -->Searches the target string for a given substring starting at the end.\n",
    "# returns the lowest index where substring is found\n",
    "#raises error if substring is not found\n",
    "\n",
    "String_Find_Replace_Fn_Rindex = \"Here are some of the most common string methods. A method is like a function, but it runs \\\"on\\\" an object. If the variable s is a string, then the code s.lower() runs the lower() method on that string object and returns the result (this idea of a method running on an object is one of the basic ideas that make up Object Oriented Programming, OOP). Here are some of the most common string methods\"\n",
    "\n",
    "String_Find_Replace_Fn_Index.rindex('object') # Finds that after 188th index\n"
   ]
  },
  {
   "cell_type": "markdown",
   "metadata": {},
   "source": [
    "# String Validation Functions.\n",
    "\n",
    "## Mostly Returns True/False"
   ]
  },
  {
   "cell_type": "code",
   "execution_count": 46,
   "metadata": {},
   "outputs": [
    {
     "data": {
      "text/plain": [
       "True"
      ]
     },
     "execution_count": 46,
     "metadata": {},
     "output_type": "execute_result"
    }
   ],
   "source": [
    "# isalnum()     -->Determines whether the target string consists of alphanumeric characters.\n",
    "# Returns True/False\n",
    "\n",
    "\"Python_Version_38\".isalnum()     #False because '_'\n",
    "\n",
    "\"PythonVersion38\".isalnum()     #True"
   ]
  },
  {
   "cell_type": "code",
   "execution_count": 47,
   "metadata": {},
   "outputs": [
    {
     "data": {
      "text/plain": [
       "True"
      ]
     },
     "execution_count": 47,
     "metadata": {},
     "output_type": "execute_result"
    }
   ],
   "source": [
    "# isalnum()     -->Determines whether the target string consists of alphabets.\n",
    "\n",
    "\"Python_Version_38\".isalpha()     #False because '_'  and 38\n",
    "\n",
    "\"PythonVersion38\".isalpha()     #False    \n",
    "\n",
    "\"PythonVersion\".isalpha()     #True"
   ]
  },
  {
   "cell_type": "code",
   "execution_count": 48,
   "metadata": {},
   "outputs": [
    {
     "data": {
      "text/plain": [
       "True"
      ]
     },
     "execution_count": 48,
     "metadata": {},
     "output_type": "execute_result"
    }
   ],
   "source": [
    "# isdigit()     -->Determines whether the target string consists of digits.\n",
    "\n",
    "\"Python_Version_38\".isdigit()     #False\n",
    "\n",
    "\"PythonVersion38\".isdigit()     #False    \n",
    "\n",
    "\"PythonVersion\".isdigit()     #False\n",
    "\n",
    "\"262593\".isdigit()     #True"
   ]
  },
  {
   "cell_type": "code",
   "execution_count": 49,
   "metadata": {},
   "outputs": [
    {
     "data": {
      "text/plain": [
       "True"
      ]
     },
     "execution_count": 49,
     "metadata": {},
     "output_type": "execute_result"
    }
   ],
   "source": [
    "# isidentifier()     -->Determines whether the target string is a valid Python identifier.\n",
    "\n",
    "\"Python_Version_38\".isidentifier()     #False\n",
    "\n",
    "\"PythonVersion38\".isidentifier()     #False    \n",
    "\n",
    "\"for\".isidentifier()     #True\n",
    "\n",
    "\"True\".isidentifier()     #True"
   ]
  },
  {
   "cell_type": "code",
   "execution_count": 50,
   "metadata": {},
   "outputs": [
    {
     "data": {
      "text/plain": [
       "True"
      ]
     },
     "execution_count": 50,
     "metadata": {},
     "output_type": "execute_result"
    }
   ],
   "source": [
    "# islower()     -->Determines whether the target string’s alphabetic characters are lowercase.\n",
    "\n",
    "\"Python_Version_38\".islower()     #False\n",
    "\n",
    "\"Python_Version_38\".islower()     #False\n",
    "\n",
    "\"pythonversion\".islower()     #True\n"
   ]
  },
  {
   "cell_type": "code",
   "execution_count": 51,
   "metadata": {},
   "outputs": [
    {
     "data": {
      "text/plain": [
       "True"
      ]
     },
     "execution_count": 51,
     "metadata": {},
     "output_type": "execute_result"
    }
   ],
   "source": [
    "# isnumeric()     -->Determines whether the target string consists of digits.\n",
    "\n",
    "\"Python_Version_38\".isnumeric()     #False\n",
    "\n",
    "\"PythonVersion38\".isnumeric()     #False    \n",
    "\n",
    "\"PythonVersion\".isnumeric()     #False\n",
    "\n",
    "\"262593\".isnumeric()     #True"
   ]
  },
  {
   "cell_type": "code",
   "execution_count": 52,
   "metadata": {},
   "outputs": [
    {
     "data": {
      "text/plain": [
       "False"
      ]
     },
     "execution_count": 52,
     "metadata": {},
     "output_type": "execute_result"
    }
   ],
   "source": [
    "# isprintable()     -->Determines whether the target string consists entirely of printable characters.\n",
    "# Returns True/False\n",
    "#True if String Contains AlphaNumerics else False\n",
    "\n",
    "\"Vignesh\".isprintable()     #True\n",
    "\n",
    "\"Vignesh123\".isprintable()     #True\n",
    "\n",
    "\"Vignesh\\n\".isprintable()     #False '\\n' Character"
   ]
  },
  {
   "cell_type": "code",
   "execution_count": 53,
   "metadata": {},
   "outputs": [
    {
     "data": {
      "text/plain": [
       "False"
      ]
     },
     "execution_count": 53,
     "metadata": {},
     "output_type": "execute_result"
    }
   ],
   "source": [
    "# isspace()     -->Determines whether the target string consists of whitespace characters.\n",
    "\n",
    "\"\".isspace()     #False\n",
    "\n",
    "\" \".isspace()     #True\n",
    "\n",
    "\"Python \".isspace()     #False\n",
    "\n",
    "\"\\t\\t\".isspace()     #True\n",
    "\n",
    "\"Python\\t\".isspace()     #False"
   ]
  },
  {
   "cell_type": "code",
   "execution_count": 54,
   "metadata": {},
   "outputs": [
    {
     "data": {
      "text/plain": [
       "False"
      ]
     },
     "execution_count": 54,
     "metadata": {},
     "output_type": "execute_result"
    }
   ],
   "source": [
    "# istitle()     -->Determines whether the target string is title cased.\n",
    "\n",
    "\"Python Is Scripting Language\".istitle()     #True\n",
    "\n",
    "\"Python Is scripting language\".istitle()     #False"
   ]
  },
  {
   "cell_type": "code",
   "execution_count": 55,
   "metadata": {},
   "outputs": [
    {
     "data": {
      "text/plain": [
       "True"
      ]
     },
     "execution_count": 55,
     "metadata": {},
     "output_type": "execute_result"
    }
   ],
   "source": [
    "# isupper()     -->Determines whether the target string’s alphabetic characters are uppercase.\n",
    "\n",
    "\"Python_Version_38\".isupper()     #False\n",
    "\n",
    "\"Python_Version_38\".isupper()     #False\n",
    "\n",
    "\"pythonversion\".isupper()     #False\n",
    "\n",
    "\"PYTHON\".isupper()     #True\n"
   ]
  },
  {
   "cell_type": "markdown",
   "metadata": {},
   "source": [
    "# String Formatting Functions"
   ]
  },
  {
   "cell_type": "code",
   "execution_count": 56,
   "metadata": {},
   "outputs": [
    {
     "data": {
      "text/plain": [
       "'~~Python~~'"
      ]
     },
     "execution_count": 56,
     "metadata": {},
     "output_type": "execute_result"
    }
   ],
   "source": [
    "# center(Width,Fill)     -->Centers a string in a field.\n",
    "# Width Argument is mandatory\n",
    "#Fill optional(Default WhiteSpace)\n",
    "\n",
    "\"Python\".center(10)     #Means Total 10 Characaters and Place Python in Middle\n",
    "\n",
    "\"Python\".center(10,\"~\")  #Fill White Spaces With ~."
   ]
  },
  {
   "cell_type": "code",
   "execution_count": 57,
   "metadata": {},
   "outputs": [
    {
     "data": {
      "text/plain": [
       "'Python         Language       '"
      ]
     },
     "execution_count": 57,
     "metadata": {},
     "output_type": "execute_result"
    }
   ],
   "source": [
    "# expandtabs(TabSize = <AnyValue(int)>)     -->Expands tabs in a string.\n",
    "#replaces each tab character ('\\t') with spaces.\n",
    "\n",
    "\"Python\\tLanguage\\t\".expandtabs(tabsize = 20)\n",
    "\n",
    "\"Python\\tLanguage\\t\".expandtabs(tabsize = 15)\n"
   ]
  },
  {
   "cell_type": "code",
   "execution_count": 58,
   "metadata": {},
   "outputs": [
    {
     "data": {
      "text/plain": [
       "'Python~~~~'"
      ]
     },
     "execution_count": 58,
     "metadata": {},
     "output_type": "execute_result"
    }
   ],
   "source": [
    "# ljust(Width,Fill)     -->Left-justifies a string in field.\n",
    "# Width Argument is mandatory\n",
    "#Fill optional(Default WhiteSpace)\n",
    "\n",
    "\"Python\".ljust(10)     #Means Total 10 Characaters and Place WhiteSpace after String.\n",
    "\n",
    "\"Python\".ljust(10,\"~\")  #Fill White Spaces With ~."
   ]
  },
  {
   "cell_type": "code",
   "execution_count": 59,
   "metadata": {},
   "outputs": [
    {
     "data": {
      "text/plain": [
       "' vigneshpython'"
      ]
     },
     "execution_count": 59,
     "metadata": {},
     "output_type": "execute_result"
    }
   ],
   "source": [
    "# lstrip(<chars>)     -->Trims leading characters from a string.\n",
    "#<chars>Optional. A set of characters to remove as leading characters\n",
    "\"     Python\".lstrip()     #Prints \"Python\" Removes White Spaces From Starting.\n",
    "\n",
    "\"Vignesh:Python\".lstrip('Vi')  #Strips Characters From Left\n",
    "\n",
    "\"++++x...y!!z* vigneshpython\".lstrip(\"+.!xyz*\")   #' vigneshpython'\n"
   ]
  },
  {
   "cell_type": "code",
   "execution_count": 60,
   "metadata": {},
   "outputs": [
    {
     "data": {
      "text/plain": [
       "'Here are some of Replaced_The most common string methods. A method is like a function, but it runs \"on\" an object. If Replaced_The variable s is a string, then the code s.lower() runs the lower() method on that string object and returns the result (this idea of a method running on an object is one of the basic ideas that make up Object Oriented Programming, OOP). Here are some of the most common string methods'"
      ]
     },
     "execution_count": 60,
     "metadata": {},
     "output_type": "execute_result"
    }
   ],
   "source": [
    "#replace(Old_Str,New_Str,Count)     -->Replaces occurrences of a substring within a string.\n",
    "# returns a copy of s with all occurrences of substring Old_Str replaced by New_Str:\n",
    "\n",
    "String_Find_Replace_Fn_Replace = \"Here are some of the most common string methods. A method is like a function, but it runs \\\"on\\\" an object. If the variable s is a string, then the code s.lower() runs the lower() method on that string object and returns the result (this idea of a method running on an object is one of the basic ideas that make up Object Oriented Programming, OOP). Here are some of the most common string methods\"\n",
    "\n",
    "String_Find_Replace_Fn_Replace.replace('that',\"Replaced_That\")\n",
    "\n",
    "String_Find_Replace_Fn_Replace_Count = \"Here are some of the most common string methods. A method is like a function, but it runs \\\"on\\\" an object. If the variable s is a string, then the code s.lower() runs the lower() method on that string object and returns the result (this idea of a method running on an object is one of the basic ideas that make up Object Oriented Programming, OOP). Here are some of the most common string methods\"\n",
    "\n",
    "String_Find_Replace_Fn_Replace.replace('the',\"Replaced_The\",2)"
   ]
  },
  {
   "cell_type": "code",
   "execution_count": 61,
   "metadata": {},
   "outputs": [
    {
     "data": {
      "text/plain": [
       "'~~~~Python'"
      ]
     },
     "execution_count": 61,
     "metadata": {},
     "output_type": "execute_result"
    }
   ],
   "source": [
    "# rjust(Width,Fill)     -->Right-justifies a string in field.\n",
    "# Width Argument is mandatory\n",
    "#Fill optional(Default WhiteSpace)\n",
    "\n",
    "\"Python\".rjust(10)     #Means Total 10 Characaters and Place WhiteSpace after String.\n",
    "\n",
    "\"Python\".rjust(10,\"~\")  #Fill White Spaces With ~."
   ]
  },
  {
   "cell_type": "code",
   "execution_count": 62,
   "metadata": {},
   "outputs": [
    {
     "data": {
      "text/plain": [
       "'VgneshPython'"
      ]
     },
     "execution_count": 62,
     "metadata": {},
     "output_type": "execute_result"
    }
   ],
   "source": [
    "# rstrip(<chars>)     -->Trims trailing characters from a string.\n",
    "#<chars>Optional. A set of characters to remove as leading characters\n",
    "\"Python     \".rstrip()     #Prints \"Python\" Removes White Spaces From Ending.\n",
    "\n",
    "\"VgneshPython++++x...y!!z*\".rstrip(\"*zyx!.+\")   #' vigneshpython'\n"
   ]
  },
  {
   "cell_type": "code",
   "execution_count": 63,
   "metadata": {},
   "outputs": [
    {
     "data": {
      "text/plain": [
       "'VgneshPython'"
      ]
     },
     "execution_count": 63,
     "metadata": {},
     "output_type": "execute_result"
    }
   ],
   "source": [
    "# strip(<chars>)     -->Trims leading characters from a string.\n",
    "#<chars>Optional. A set of characters to remove as leading characters\n",
    "\"     Python     \".strip()     #Prints \"Python\" Removes White Spaces From Start and End.\n",
    "\n",
    "\" __  VgneshPython++++x...y!!z*\".strip(\"*zyx!.+ _\")   #' vigneshpython'\n"
   ]
  },
  {
   "cell_type": "code",
   "execution_count": 64,
   "metadata": {},
   "outputs": [
    {
     "data": {
      "text/plain": [
       "'00PythonLang'"
      ]
     },
     "execution_count": 64,
     "metadata": {},
     "output_type": "execute_result"
    }
   ],
   "source": [
    "# zfill(<Width>)     -->Pads a string on the left with zeros.\n",
    "#returns a copy of String left-padded with '0' characters to the specified <width>:\n",
    "\n",
    "\"Python\".zfill(9)\n",
    "\n",
    "\"PythonLang\".zfill(12)\n"
   ]
  },
  {
   "cell_type": "markdown",
   "metadata": {},
   "source": [
    "# String Conversion Functions"
   ]
  },
  {
   "cell_type": "code",
   "execution_count": 65,
   "metadata": {},
   "outputs": [
    {
     "data": {
      "text/plain": [
       "['Vignesh', 'Python', 'Learning']"
      ]
     },
     "execution_count": 65,
     "metadata": {},
     "output_type": "execute_result"
    }
   ],
   "source": [
    "# rsplit(sep=None, maxsplit=-1)     -->Splits a string into a list of substrings.\n",
    "# Without arguments, rsplit() splits s into substrings delimited by any sequence of whitespace\n",
    "# If the optional keyword parameter <maxsplit> is specified, a maximum of that many splits are performed, starting from the right end of s\n",
    "\n",
    "String_Conversion_Fn_Rsplit = \"Here are some of the most common string methods. A method is like a function, but it runs \\\"on\\\" an object. If the variable s is a string, then the code s.lower() runs the lower() method on that string object and returns the result (this idea of a method running on an object is one of the basic ideas that make up Object Oriented Programming, OOP). Here are some of the most common string methods\"\n",
    "\n",
    "String_Conversion_Fn_Rsplit.rsplit()   #Split Done on Every Whitespace\n",
    "\n",
    "String_Conversion_Fn_Rsplit.rsplit(maxsplit = 3)\n",
    "\n",
    "\"Vignesh,Python,Learning\".rsplit(',')"
   ]
  },
  {
   "cell_type": "code",
   "execution_count": 66,
   "metadata": {},
   "outputs": [
    {
     "data": {
      "text/plain": [
       "['Vignesh', 'Python', 'Learning']"
      ]
     },
     "execution_count": 66,
     "metadata": {},
     "output_type": "execute_result"
    }
   ],
   "source": [
    "# split(sep=None, maxsplit=-1)     -->Splits a string into a list of substrings.\n",
    "# Without arguments, split() splits s into substrings delimited by any sequence of whitespace\n",
    "# If the optional keyword parameter <maxsplit> is specified, a maximum of that many splits are performed, starting from the Lest end of String\n",
    "\n",
    "String_Conversion_Fn_split = \"Here are some of the most common string methods. A method is like a function, but it runs \\\"on\\\" an object. If the variable s is a string, then the code s.lower() runs the lower() method on that string object and returns the result (this idea of a method running on an object is one of the basic ideas that make up Object Oriented Programming, OOP). Here are some of the most common string methods\"\n",
    "\n",
    "String_Conversion_Fn_split.split()   #Split Done on Every Whitespace\n",
    "\n",
    "String_Conversion_Fn_split.split(maxsplit = 3)\n",
    "\n",
    "\"Vignesh,Python,Learning\".split(',')"
   ]
  },
  {
   "cell_type": "code",
   "execution_count": 67,
   "metadata": {},
   "outputs": [
    {
     "data": {
      "text/plain": [
       "('Vignesh.itian', '@', 'gmail.com')"
      ]
     },
     "execution_count": 67,
     "metadata": {},
     "output_type": "execute_result"
    }
   ],
   "source": [
    "# partition(<Sep>)     -->Divides a string based on a separator.\n",
    "# partition(<sep>) splits String at the first occurrence of string <sep>. \n",
    "\n",
    "# The return value is a three-part tuple consisting of:\n",
    "\n",
    "# -->1-# The portion of s preceding <sep>\n",
    "# ->2# <sep> itself\n",
    "# ->3# The portion of s following <sep>\n",
    "\n",
    "\"Vignesh.itian@gmail.com\".partition('.')\n",
    "\n",
    "\"Vignesh.itian@gmail.com\".partition('@')\n"
   ]
  },
  {
   "cell_type": "code",
   "execution_count": 68,
   "metadata": {},
   "outputs": [
    {
     "data": {
      "text/plain": [
       "('Vignesh.itian@gmail', '.', 'com')"
      ]
     },
     "execution_count": 68,
     "metadata": {},
     "output_type": "execute_result"
    }
   ],
   "source": [
    "# rpartition(<Sep>)     -->Divides a string based on a separator.\n",
    "# rpartition(<sep>) splits String at the Last occurrence of string <sep>. \n",
    "\n",
    "# The return value is a three-part tuple consisting of:\n",
    "\n",
    "# -->1-# The portion of s preceding <sep>\n",
    "# ->2# <sep> itself\n",
    "# ->3# The portion of s following <sep>\n",
    "\n",
    "\"Vignesh.itian@gmail.com\".rpartition('@')\n",
    "\n",
    "\"Vignesh.itian@gmail.com\".rpartition('.')\n"
   ]
  },
  {
   "cell_type": "code",
   "execution_count": 69,
   "metadata": {},
   "outputs": [
    {
     "data": {
      "text/plain": [
       "'capitalize :: casefold :: center :: count :: encode :: endswith :: expandtabs :: find :: format :: format_map :: index :: isalnum :: isalpha :: isascii :: isdecimal :: isdigit :: isidentifier :: islower :: isnumeric :: isprintable :: isspace :: istitle :: isupper :: join :: ljust :: lower :: lstrip :: maketrans :: partition :: replace :: rfind :: rindex :: rjust :: rpartition :: rsplit :: rstrip :: split :: splitlines :: startswith :: strip :: swapcase :: title :: translate :: upper :: zfill'"
      ]
     },
     "execution_count": 69,
     "metadata": {},
     "output_type": "execute_result"
    }
   ],
   "source": [
    "# join(<iterable>)     ->Concatenates strings from an iterable(List/Tuple/String).\n",
    "\n",
    "# Needs a Separator String\n",
    "\n",
    "# '<Sep>'.join(<Iteratable>)\n",
    "\n",
    "' :: '.join(String_Find_Replace_Fn_Test)"
   ]
  },
  {
   "cell_type": "code",
   "execution_count": 70,
   "metadata": {},
   "outputs": [
    {
     "data": {
      "text/plain": [
       "['Here are some of the most common string methods',\n",
       " '. A method is like a function, but it runs \"on\" an object',\n",
       " '. If the variable s is a string, then the code s.lower() runs the lower() method on that string object and returns the result (this idea of a method running on an object is one of the basic ideas that make up Object Oriented Programming, OOP).',\n",
       " ' Here are some of the most common string methods']"
      ]
     },
     "execution_count": 70,
     "metadata": {},
     "output_type": "execute_result"
    }
   ],
   "source": [
    "# splitlines(<KeepEnds>)    ->Breaks a string at line boundaries.\n",
    "# splits String up into lines and returns them in a list.\n",
    "# If the optional <keepends> argument is specified and is True|1, then the lines boundaries are retained in the result strings:\n",
    "\n",
    "String_Conversion_Fn_SplitLines = \"Here are some of the most common string methods\\n. A method is like a function, but it runs \\\"on\\\" an object\\n. If the variable s is a string, then the code s.lower() runs the lower() method on that string object and returns the result (this idea of a method running on an object is one of the basic ideas that make up Object Oriented Programming, OOP).\\n Here are some of the most common string methods\"\n",
    "\n",
    "String_Conversion_Fn_SplitLines.splitlines(1)\n",
    "\n",
    "String_Conversion_Fn_SplitLines.splitlines()\n"
   ]
  }
 ],
 "metadata": {
  "kernelspec": {
   "display_name": "Python 3",
   "language": "python",
   "name": "python3"
  },
  "language_info": {
   "codemirror_mode": {
    "name": "ipython",
    "version": 3
   },
   "file_extension": ".py",
   "mimetype": "text/x-python",
   "name": "python",
   "nbconvert_exporter": "python",
   "pygments_lexer": "ipython3",
   "version": "3.8.5"
  }
 },
 "nbformat": 4,
 "nbformat_minor": 4
}
