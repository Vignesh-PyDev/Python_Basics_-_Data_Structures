{
 "cells": [
  {
   "cell_type": "markdown",
   "metadata": {},
   "source": [
    "# List_Comprehension"
   ]
  },
  {
   "cell_type": "markdown",
   "metadata": {},
   "source": [
    "# 1--> List Creating Methods "
   ]
  },
  {
   "cell_type": "code",
   "execution_count": 1,
   "metadata": {},
   "outputs": [],
   "source": [
    "import itertools  \n",
    "# 1.0 Creating a Empty List\n",
    "List = []\n",
    "\n",
    "# 1.1 Creating Two or More Empty List in  Single Line\n",
    "List_1,List_2,List_3 = [],[],[]\n",
    "\n",
    "# 1.2 Creating List in With Data\n",
    "List_with_Data_1 = [\"First_Value\",\"Second_Value\",\"Third_Value\",\"Fourth_value\",\"Fifth_Value\",\"Sixth_Value\",\"Last_Value\"]\n",
    "List_with_Data_2 = [\"Python\",\"FileIO\",\"Db\",\"MongoDB\",5]\n",
    "List_with_Data_3 = [1,2,3,4,5,6,7,8]\n",
    "\n",
    "#  1.3 Using Range\n",
    "# Syntax --> Range(Start_Value,End_Value,Step_Value)\n",
    "List_Using_Range_1,List_Using_Range_2 = range(0,20,2),range(0,21,3)\n",
    "\n",
    "\n",
    "# 1.4 Using For to Create List\n",
    "List_Created_Using_Loops = [Iter_Var**3 for Iter_Var in range(10)] # Creates A List Multiples Of 3 \n",
    "\n",
    "# 1.5 Creating a List By Adding Old List \n",
    "List_Created_From_Adding = List_with_Data_2 + List_with_Data_1 # Simply Appends With the First List\n",
    "\n",
    "# 1.6 Creating a Nested List Using Existing/New List \n",
    "\n",
    "# This Can Be Done Using Two Methods\n",
    "# zip() --> In Python 3, zip returns an iterator. \n",
    "# zip() function stops when anyone of the list of all the lists gets exhausted. \n",
    "# In simple words, it runs till the smallest of all the lists.\n",
    "\n",
    "\n",
    "# zip_longest() : zip_longest stops when all lists are exhausted. \n",
    "# When the shorter iterator(s) are exhausted, \n",
    "# zip_longest yields a tuple with None value by default \n",
    "# You can Specify what to fill using  fillvalue=<any_value>\n",
    "# Basic Explanation of itertools.zip_longest Using 3 lists.\n",
    "\n",
    "#Both zip() and zip_longest() takes Minimum one Iterable as argument,\n",
    "\n",
    "\n",
    "Nested_List = list(itertools.zip_longest(List_with_Data_1,List_with_Data_2,List_with_Data_3,fillvalue = \"NA\"))"
   ]
  },
  {
   "cell_type": "code",
   "execution_count": 2,
   "metadata": {},
   "outputs": [
    {
     "data": {
      "text/plain": [
       "[]"
      ]
     },
     "execution_count": 2,
     "metadata": {},
     "output_type": "execute_result"
    }
   ],
   "source": [
    "List"
   ]
  },
  {
   "cell_type": "code",
   "execution_count": 3,
   "metadata": {},
   "outputs": [
    {
     "data": {
      "text/plain": [
       "([], [], [])"
      ]
     },
     "execution_count": 3,
     "metadata": {},
     "output_type": "execute_result"
    }
   ],
   "source": [
    "List_1,List_2,List_3"
   ]
  },
  {
   "cell_type": "code",
   "execution_count": 4,
   "metadata": {},
   "outputs": [
    {
     "data": {
      "text/plain": [
       "[]"
      ]
     },
     "execution_count": 4,
     "metadata": {},
     "output_type": "execute_result"
    }
   ],
   "source": [
    "List_2"
   ]
  },
  {
   "cell_type": "code",
   "execution_count": 5,
   "metadata": {},
   "outputs": [
    {
     "data": {
      "text/plain": [
       "['First_Value',\n",
       " 'Second_Value',\n",
       " 'Third_Value',\n",
       " 'Fourth_value',\n",
       " 'Fifth_Value',\n",
       " 'Sixth_Value',\n",
       " 'Last_Value']"
      ]
     },
     "execution_count": 5,
     "metadata": {},
     "output_type": "execute_result"
    }
   ],
   "source": [
    "List_with_Data_1"
   ]
  },
  {
   "cell_type": "code",
   "execution_count": 6,
   "metadata": {},
   "outputs": [
    {
     "data": {
      "text/plain": [
       "[0, 1, 8, 27, 64, 125, 216, 343, 512, 729]"
      ]
     },
     "execution_count": 6,
     "metadata": {},
     "output_type": "execute_result"
    }
   ],
   "source": [
    "List_Created_Using_Loops"
   ]
  },
  {
   "cell_type": "code",
   "execution_count": 7,
   "metadata": {},
   "outputs": [
    {
     "data": {
      "text/plain": [
       "['Python',\n",
       " 'FileIO',\n",
       " 'Db',\n",
       " 'MongoDB',\n",
       " 5,\n",
       " 'First_Value',\n",
       " 'Second_Value',\n",
       " 'Third_Value',\n",
       " 'Fourth_value',\n",
       " 'Fifth_Value',\n",
       " 'Sixth_Value',\n",
       " 'Last_Value']"
      ]
     },
     "execution_count": 7,
     "metadata": {},
     "output_type": "execute_result"
    }
   ],
   "source": [
    "List_Created_From_Adding"
   ]
  },
  {
   "cell_type": "code",
   "execution_count": 8,
   "metadata": {},
   "outputs": [
    {
     "data": {
      "text/plain": [
       "[('First_Value', 'Python', 1),\n",
       " ('Second_Value', 'FileIO', 2),\n",
       " ('Third_Value', 'Db', 3),\n",
       " ('Fourth_value', 'MongoDB', 4),\n",
       " ('Fifth_Value', 5, 5),\n",
       " ('Sixth_Value', 'NA', 6),\n",
       " ('Last_Value', 'NA', 7),\n",
       " ('NA', 'NA', 8)]"
      ]
     },
     "execution_count": 8,
     "metadata": {},
     "output_type": "execute_result"
    }
   ],
   "source": [
    "Nested_List"
   ]
  },
  {
   "cell_type": "markdown",
   "metadata": {},
   "source": [
    "# Indexing And Slicing"
   ]
  },
  {
   "cell_type": "code",
   "execution_count": 9,
   "metadata": {},
   "outputs": [
    {
     "data": {
      "text/plain": [
       "'First_Value'"
      ]
     },
     "execution_count": 9,
     "metadata": {},
     "output_type": "execute_result"
    }
   ],
   "source": [
    "# Python List Positive Index Starts with 0 and Negative Index Starts with -1.\n",
    "# Basic Syntax\n",
    "\n",
    "# List|Sting|Tuple[start_Index:Last_Index,Step]\n",
    "\n",
    "List_with_Data_1[0]  #Prints First Value in a List"
   ]
  },
  {
   "cell_type": "code",
   "execution_count": 10,
   "metadata": {},
   "outputs": [
    {
     "data": {
      "text/plain": [
       "'Last_Value'"
      ]
     },
     "execution_count": 10,
     "metadata": {},
     "output_type": "execute_result"
    }
   ],
   "source": [
    "List_with_Data_1[-1] #Prints Last Value  in a List"
   ]
  },
  {
   "cell_type": "code",
   "execution_count": 11,
   "metadata": {},
   "outputs": [
    {
     "data": {
      "text/plain": [
       "['First_Value',\n",
       " 'Second_Value',\n",
       " 'Third_Value',\n",
       " 'Fourth_value',\n",
       " 'Fifth_Value',\n",
       " 'Sixth_Value',\n",
       " 'Last_Value']"
      ]
     },
     "execution_count": 11,
     "metadata": {},
     "output_type": "execute_result"
    }
   ],
   "source": [
    "List_with_Data_1[::] #Prints all Contents in a List Starts from Index 0"
   ]
  },
  {
   "cell_type": "code",
   "execution_count": 12,
   "metadata": {},
   "outputs": [
    {
     "data": {
      "text/plain": [
       "['Last_Value',\n",
       " 'Sixth_Value',\n",
       " 'Fifth_Value',\n",
       " 'Fourth_value',\n",
       " 'Third_Value',\n",
       " 'Second_Value',\n",
       " 'First_Value']"
      ]
     },
     "execution_count": 12,
     "metadata": {},
     "output_type": "execute_result"
    }
   ],
   "source": [
    "List_with_Data_1[::-1] #Prints all Contents in a List in Reverse Order Starts from Index -1"
   ]
  },
  {
   "cell_type": "code",
   "execution_count": 13,
   "metadata": {},
   "outputs": [
    {
     "data": {
      "text/plain": [
       "['First_Value', 'Second_Value', 'Third_Value']"
      ]
     },
     "execution_count": 13,
     "metadata": {},
     "output_type": "execute_result"
    }
   ],
   "source": [
    "List_with_Data_1[:3:]  #Prints First 3 Elements in a List in Starts from Index 3"
   ]
  },
  {
   "cell_type": "code",
   "execution_count": 14,
   "metadata": {},
   "outputs": [
    {
     "data": {
      "text/plain": [
       "['Fifth_Value', 'Sixth_Value', 'Last_Value']"
      ]
     },
     "execution_count": 14,
     "metadata": {},
     "output_type": "execute_result"
    }
   ],
   "source": [
    "List_with_Data_1[-2-1::]  #Prints Last 3 Elements in a List"
   ]
  },
  {
   "cell_type": "code",
   "execution_count": 15,
   "metadata": {},
   "outputs": [
    {
     "data": {
      "text/plain": [
       "['First_Value', 'Third_Value', 'Fifth_Value', 'Last_Value']"
      ]
     },
     "execution_count": 15,
     "metadata": {},
     "output_type": "execute_result"
    }
   ],
   "source": [
    "List_with_Data_1[::2] #Prints all Contents in a List in With Step 2 (i.e Every Even Index) Starts from Index 0"
   ]
  },
  {
   "cell_type": "code",
   "execution_count": 16,
   "metadata": {},
   "outputs": [
    {
     "data": {
      "text/plain": [
       "['Last_Value', 'Fifth_Value', 'Third_Value', 'First_Value']"
      ]
     },
     "execution_count": 16,
     "metadata": {},
     "output_type": "execute_result"
    }
   ],
   "source": [
    "List_with_Data_1[::-2]  #Prints all Contents in a List in With Step 2 (i.e Every Odd Index) Starts from Index -1"
   ]
  },
  {
   "cell_type": "code",
   "execution_count": 17,
   "metadata": {},
   "outputs": [
    {
     "data": {
      "text/plain": [
       "['Third_Value', 'Fifth_Value', 'Last_Value']"
      ]
     },
     "execution_count": 17,
     "metadata": {},
     "output_type": "execute_result"
    }
   ],
   "source": [
    "#Prints Elements in a List from 2nd Index to 8th in With Step 2 (i.e Every Odd Index) Starts from Index 2\n",
    "List_with_Data_1[2:8:2] "
   ]
  },
  {
   "cell_type": "code",
   "execution_count": 18,
   "metadata": {},
   "outputs": [
    {
     "data": {
      "text/plain": [
       "['Last_Value', 'Fifth_Value', 'Third_Value']"
      ]
     },
     "execution_count": 18,
     "metadata": {},
     "output_type": "execute_result"
    }
   ],
   "source": [
    "List_with_Data_1[-1:-6:-2]  #Prints all Contents in a List in With Step 2 (i.e Every Odd Index) Starts from Index -1"
   ]
  },
  {
   "cell_type": "code",
   "execution_count": 19,
   "metadata": {},
   "outputs": [],
   "source": [
    "#Creating Matrix of n*n Size\n",
    "# Matrix_n_n = [[] for k in range(n)]  #This Creates a Empty Matrix "
   ]
  },
  {
   "cell_type": "code",
   "execution_count": 25,
   "metadata": {},
   "outputs": [
    {
     "name": "stdout",
     "output_type": "stream",
     "text": [
      "\t\t\t\tCreating Martric with Given Rows and Column Values\n",
      "Enter Row_Size\t:3\n",
      "Enter Column_Size\t:3\n",
      "You Need To Enter 9 Values\t:\n",
      "Press 1 fill Random Values to your Matrix:\n",
      "Press 2 to fill Manual values(Time Consuming:)\n",
      "Which One Do you Prefer:1\n",
      "[[7548, 5311, 3695], [2503, 9718, 9221], [2517, 8779, 8050]]\n"
     ]
    }
   ],
   "source": [
    "def Create_Matrix():\n",
    "    print(\"\\t\\t\\t\\tCreating Martric with Given Rows and Column Values\")\n",
    "    Row_Size_m  = input(\"Enter Row_Size\\t:\")\n",
    "    Column_Size_n  = input(\"Enter Column_Size\\t:\")\n",
    "    if(Row_Size_m.isnumeric() and Column_Size_n.isnumeric()):\n",
    "        print(\"You Need To Enter {} Values\\t:\".format(int(Column_Size_n) * int(Row_Size_m)))\n",
    "        print(\"Press 1 fill Random Values to your Matrix:\")\n",
    "        print(\"Press 2 to fill Manual values(Time Consuming:)\")\n",
    "        Matrix_m_n =[ [x for x in range(int(Column_Size_n))] for k in range(int(Row_Size_m))]\n",
    "            #     print(Matrix_m_n)\n",
    "        Matrix_Input_Data = input(\"Which One Do you Prefer:\")\n",
    "        if Matrix_Input_Data.isnumeric():\n",
    "            if str(Matrix_Input_Data) == \"1\":\n",
    "            #             print(\"In 1 loop\")\n",
    "                for x in range(0, int(Row_Size_m)):\n",
    "                    for y in range(0, int(Column_Size_n)):\n",
    "                        Matrix_m_n[x][y]=(random.randrange(1000, 9999))\n",
    "                return (Matrix_m_n)\n",
    "            elif str(Matrix_Input_Data) == \"2\":\n",
    "                print(\"In elif\")\n",
    "                for x in range(0, int(Row_Size_m)):\n",
    "                    for y in range(0, int(Column_Size_n)):\n",
    "                        Matrix_m_n[x][y]=(input(\"Enter Value For [{0}][{1}]\\t\".format(x,y)))\n",
    "                return (Matrix_m_n)\n",
    "    else:\n",
    "        print(\"Enter Numeric Values:\")\n",
    "        Create_Matrix()\n",
    "print(Create_Matrix())"
   ]
  },
  {
   "cell_type": "code",
   "execution_count": 26,
   "metadata": {},
   "outputs": [
    {
     "name": "stdout",
     "output_type": "stream",
     "text": [
      "\t\t\t\tCreating Martric with Given Rows and Column Values\n",
      "Enter Row_Size\t:3\n",
      "Enter Column_Size\t:2\n",
      "You Need To Enter 6 Values\t:\n",
      "Press 1 fill Random Values to your Matrix:\n",
      "Press 2 to fill Manual values(Time Consuming:)\n",
      "Which One Do you Prefer:2\n",
      "In elif\n",
      "Enter Value For [0][0]\td\n",
      "Enter Value For [0][1]\td\n",
      "Enter Value For [1][0]\td\n",
      "Enter Value For [1][1]\tfg\n",
      "Enter Value For [2][0]\tt\n",
      "Enter Value For [2][1]\tuy\n",
      "[['d', 'd'], ['d', 'fg'], ['t', 'uy']]\n"
     ]
    }
   ],
   "source": [
    "print(Create_Matrix())"
   ]
  },
  {
   "cell_type": "markdown",
   "metadata": {},
   "source": []
  }
 ],
 "metadata": {
  "kernelspec": {
   "display_name": "Python 3",
   "language": "python",
   "name": "python3"
  },
  "language_info": {
   "codemirror_mode": {
    "name": "ipython",
    "version": 3
   },
   "file_extension": ".py",
   "mimetype": "text/x-python",
   "name": "python",
   "nbconvert_exporter": "python",
   "pygments_lexer": "ipython3",
   "version": "3.8.5"
  }
 },
 "nbformat": 4,
 "nbformat_minor": 4
}
