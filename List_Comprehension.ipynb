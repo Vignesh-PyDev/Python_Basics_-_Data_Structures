{
 "cells": [
  {
   "cell_type": "markdown",
   "metadata": {},
   "source": [
    "# List_Comprehension"
   ]
  },
  {
   "cell_type": "markdown",
   "metadata": {},
   "source": [
    "# 1--> List Creating Methods "
   ]
  },
  {
   "cell_type": "code",
   "execution_count": null,
   "metadata": {},
   "outputs": [],
   "source": [
    "import itertools  \n",
    "# 1.0 Creating a Empty List\n",
    "List = []\n",
    "\n",
    "# 1.1 Creating Two or More Empty List in  Single Line\n",
    "List_1,List_2,List_3 = [],[],[]\n",
    "\n",
    "# 1.2 Creating List in With Data\n",
    "List_with_Data_1 = [\"First_Value\",\"Second_Value\",\"Third_Value\",\"Fourth_value\",\"Fifth_Value\",\"Sixth_Value\",\"Last_Value\"]\n",
    "List_with_Data_2 = [\"Python\",\"FileIO\",\"Db\",\"MongoDB\",5]\n",
    "List_with_Data_3 = [1,2,3,4,5,6,7,8]\n",
    "\n",
    "#  1.3 Using Range\n",
    "# Syntax --> Range(Start_Value,End_Value,Step_Value)\n",
    "List_Using_Range_1,List_Using_Range_2 = range(0,20,2),range(0,21,3)\n",
    "\n",
    "\n",
    "# 1.4 Using For to Create List\n",
    "List_Created_Using_Loops = [Iter_Var**3 for Iter_Var in range(10)] # Creates A List Multiples Of 3 \n",
    "\n",
    "# 1.5 Creating a List By Adding Old List \n",
    "List_Created_From_Adding = List_with_Data_2 + List_with_Data_1 # Simply Appends With the First List\n",
    "\n",
    "# 1.6 Creating a Nested List Using Existing/New List \n",
    "\n",
    "# This Can Be Done Using Two Methods\n",
    "# zip() --> In Python 3, zip returns an iterator. \n",
    "# zip() function stops when anyone of the list of all the lists gets exhausted. \n",
    "# In simple words, it runs till the smallest of all the lists.\n",
    "\n",
    "\n",
    "# zip_longest() : zip_longest stops when all lists are exhausted. \n",
    "# When the shorter iterator(s) are exhausted, \n",
    "# zip_longest yields a tuple with None value by default \n",
    "# You can Specify what to fill using  fillvalue=<any_value>\n",
    "# Basic Explanation of itertools.zip_longest Using 3 lists.\n",
    "\n",
    "#Both zip() and zip_longest() takes Minimum one Iterable as argument,\n",
    "\n",
    "\n",
    "Nested_List = list(itertools.zip_longest(List_with_Data_1,List_with_Data_2,List_with_Data_3,fillvalue = \"NA\"))"
   ]
  },
  {
   "cell_type": "code",
   "execution_count": null,
   "metadata": {},
   "outputs": [],
   "source": [
    "List"
   ]
  },
  {
   "cell_type": "code",
   "execution_count": null,
   "metadata": {},
   "outputs": [],
   "source": [
    "List_1,List_2,List_3"
   ]
  },
  {
   "cell_type": "code",
   "execution_count": null,
   "metadata": {},
   "outputs": [],
   "source": [
    "List_2"
   ]
  },
  {
   "cell_type": "code",
   "execution_count": null,
   "metadata": {},
   "outputs": [],
   "source": [
    "List_with_Data_1"
   ]
  },
  {
   "cell_type": "code",
   "execution_count": null,
   "metadata": {},
   "outputs": [],
   "source": [
    "List_Created_Using_Loops"
   ]
  },
  {
   "cell_type": "code",
   "execution_count": null,
   "metadata": {},
   "outputs": [],
   "source": [
    "List_Created_From_Adding"
   ]
  },
  {
   "cell_type": "code",
   "execution_count": null,
   "metadata": {},
   "outputs": [],
   "source": [
    "Nested_List"
   ]
  },
  {
   "cell_type": "markdown",
   "metadata": {},
   "source": [
    "# Indexing And Slicing"
   ]
  },
  {
   "cell_type": "code",
   "execution_count": null,
   "metadata": {},
   "outputs": [],
   "source": [
    "# Python List Positive Index Starts with 0 and Negative Index Starts with -1.\n",
    "# Basic Syntax\n",
    "\n",
    "# List|Sting|Tuple[start_Index:Last_Index,Step]\n",
    "\n",
    "List_with_Data_1[0]  #Prints First Value in a List"
   ]
  },
  {
   "cell_type": "code",
   "execution_count": null,
   "metadata": {},
   "outputs": [],
   "source": [
    "List_with_Data_1[-1] #Prints Last Value  in a List"
   ]
  },
  {
   "cell_type": "code",
   "execution_count": null,
   "metadata": {},
   "outputs": [],
   "source": [
    "List_with_Data_1[::] #Prints all Contents in a List Starts from Index 0"
   ]
  },
  {
   "cell_type": "code",
   "execution_count": null,
   "metadata": {},
   "outputs": [],
   "source": [
    "List_with_Data_1[::-1] #Prints all Contents in a List in Reverse Order Starts from Index -1"
   ]
  },
  {
   "cell_type": "code",
   "execution_count": null,
   "metadata": {},
   "outputs": [],
   "source": [
    "List_with_Data_1[:3:]  #Prints First 3 Elements in a List in Starts from Index 3"
   ]
  },
  {
   "cell_type": "code",
   "execution_count": null,
   "metadata": {},
   "outputs": [],
   "source": [
    "List_with_Data_1[-2-1::]  #Prints Last 3 Elements in a List"
   ]
  },
  {
   "cell_type": "code",
   "execution_count": null,
   "metadata": {},
   "outputs": [],
   "source": [
    "List_with_Data_1[::2] #Prints all Contents in a List in With Step 2 (i.e Every Even Index) Starts from Index 0"
   ]
  },
  {
   "cell_type": "code",
   "execution_count": null,
   "metadata": {},
   "outputs": [],
   "source": [
    "List_with_Data_1[::-2]  #Prints all Contents in a List in With Step 2 (i.e Every Odd Index) Starts from Index -1"
   ]
  },
  {
   "cell_type": "code",
   "execution_count": null,
   "metadata": {},
   "outputs": [],
   "source": [
    "#Prints Elements in a List from 2nd Index to 8th in With Step 2 (i.e Every Odd Index) Starts from Index 2\n",
    "List_with_Data_1[2:8:2] "
   ]
  },
  {
   "cell_type": "code",
   "execution_count": null,
   "metadata": {},
   "outputs": [],
   "source": [
    "List_with_Data_1[-1:-6:-2]  #Prints all Contents in a List in With Step 2 (i.e Every Odd Index) Starts from Index -1"
   ]
  }
 ],
 "metadata": {
  "kernelspec": {
   "display_name": "Python 3",
   "language": "python",
   "name": "python3"
  },
  "language_info": {
   "codemirror_mode": {
    "name": "ipython",
    "version": 3
   },
   "file_extension": ".py",
   "mimetype": "text/x-python",
   "name": "python",
   "nbconvert_exporter": "python",
   "pygments_lexer": "ipython3",
   "version": "3.8.5"
  }
 },
 "nbformat": 4,
 "nbformat_minor": 4
}
